{
 "cells": [
  {
   "cell_type": "markdown",
   "metadata": {},
   "source": [
    "# TechLab - Portfolio Optimization Pt.1"
   ]
  },
  {
   "cell_type": "markdown",
   "metadata": {},
   "source": [
    "Nel primo laboratorio prenderemo confidenza con l’ambiente di laboratorio Jupyter, impareremo ad ottenere le quotazioni giornaliere di mercato e calcolremo valori attesi dei rendimenti e varianze annualizzate."
   ]
  },
  {
   "cell_type": "code",
   "execution_count": 1,
   "metadata": {},
   "outputs": [],
   "source": [
    "from pandas_datareader import data as web\n",
    "import pandas as pd\n",
    "import numpy as np\n",
    "from datetime import datetime\n",
    "import matplotlib.pyplot as plt\n",
    "plt.style.use('fivethirtyeight')\n",
    "\n",
    "import scipy.stats as stats\n",
    "import math\n",
    "from pypfopt import expected_returns"
   ]
  },
  {
   "cell_type": "code",
   "execution_count": 2,
   "metadata": {},
   "outputs": [],
   "source": [
    "# Scelgo gli asset su cui effettuare l'analisi\n",
    "\n",
    "assets = ['FB', 'AMZN', 'AAPL', 'NFLX', 'GOOG']"
   ]
  },
  {
   "cell_type": "code",
   "execution_count": 3,
   "metadata": {},
   "outputs": [
    {
     "data": {
      "text/html": [
       "<div>\n",
       "<style scoped>\n",
       "    .dataframe tbody tr th:only-of-type {\n",
       "        vertical-align: middle;\n",
       "    }\n",
       "\n",
       "    .dataframe tbody tr th {\n",
       "        vertical-align: top;\n",
       "    }\n",
       "\n",
       "    .dataframe thead th {\n",
       "        text-align: right;\n",
       "    }\n",
       "</style>\n",
       "<table border=\"1\" class=\"dataframe\">\n",
       "  <thead>\n",
       "    <tr style=\"text-align: right;\">\n",
       "      <th></th>\n",
       "      <th>FB</th>\n",
       "      <th>AMZN</th>\n",
       "      <th>AAPL</th>\n",
       "      <th>NFLX</th>\n",
       "      <th>GOOG</th>\n",
       "    </tr>\n",
       "    <tr>\n",
       "      <th>Date</th>\n",
       "      <th></th>\n",
       "      <th></th>\n",
       "      <th></th>\n",
       "      <th></th>\n",
       "      <th></th>\n",
       "    </tr>\n",
       "  </thead>\n",
       "  <tbody>\n",
       "    <tr>\n",
       "      <th>2015-01-02</th>\n",
       "      <td>78.449997</td>\n",
       "      <td>308.519989</td>\n",
       "      <td>24.861401</td>\n",
       "      <td>49.848572</td>\n",
       "      <td>523.373108</td>\n",
       "    </tr>\n",
       "    <tr>\n",
       "      <th>2015-01-05</th>\n",
       "      <td>77.190002</td>\n",
       "      <td>302.190002</td>\n",
       "      <td>24.161013</td>\n",
       "      <td>47.311428</td>\n",
       "      <td>512.463013</td>\n",
       "    </tr>\n",
       "    <tr>\n",
       "      <th>2015-01-06</th>\n",
       "      <td>76.150002</td>\n",
       "      <td>295.290009</td>\n",
       "      <td>24.163294</td>\n",
       "      <td>46.501431</td>\n",
       "      <td>500.585632</td>\n",
       "    </tr>\n",
       "    <tr>\n",
       "      <th>2015-01-07</th>\n",
       "      <td>76.150002</td>\n",
       "      <td>298.420013</td>\n",
       "      <td>24.502111</td>\n",
       "      <td>46.742859</td>\n",
       "      <td>499.727997</td>\n",
       "    </tr>\n",
       "    <tr>\n",
       "      <th>2015-01-08</th>\n",
       "      <td>78.180000</td>\n",
       "      <td>300.459991</td>\n",
       "      <td>25.443539</td>\n",
       "      <td>47.779999</td>\n",
       "      <td>501.303680</td>\n",
       "    </tr>\n",
       "    <tr>\n",
       "      <th>...</th>\n",
       "      <td>...</td>\n",
       "      <td>...</td>\n",
       "      <td>...</td>\n",
       "      <td>...</td>\n",
       "      <td>...</td>\n",
       "    </tr>\n",
       "    <tr>\n",
       "      <th>2020-12-24</th>\n",
       "      <td>267.399994</td>\n",
       "      <td>3172.689941</td>\n",
       "      <td>131.773087</td>\n",
       "      <td>513.969971</td>\n",
       "      <td>1738.849976</td>\n",
       "    </tr>\n",
       "    <tr>\n",
       "      <th>2020-12-28</th>\n",
       "      <td>277.000000</td>\n",
       "      <td>3283.959961</td>\n",
       "      <td>136.486053</td>\n",
       "      <td>519.119995</td>\n",
       "      <td>1776.089966</td>\n",
       "    </tr>\n",
       "    <tr>\n",
       "      <th>2020-12-29</th>\n",
       "      <td>276.779999</td>\n",
       "      <td>3322.000000</td>\n",
       "      <td>134.668762</td>\n",
       "      <td>530.869995</td>\n",
       "      <td>1758.719971</td>\n",
       "    </tr>\n",
       "    <tr>\n",
       "      <th>2020-12-30</th>\n",
       "      <td>271.869995</td>\n",
       "      <td>3285.850098</td>\n",
       "      <td>133.520477</td>\n",
       "      <td>524.590027</td>\n",
       "      <td>1739.520020</td>\n",
       "    </tr>\n",
       "    <tr>\n",
       "      <th>2020-12-31</th>\n",
       "      <td>273.160004</td>\n",
       "      <td>3256.929932</td>\n",
       "      <td>132.492020</td>\n",
       "      <td>540.729980</td>\n",
       "      <td>1751.880005</td>\n",
       "    </tr>\n",
       "  </tbody>\n",
       "</table>\n",
       "<p>1511 rows × 5 columns</p>\n",
       "</div>"
      ],
      "text/plain": [
       "                    FB         AMZN        AAPL        NFLX         GOOG\n",
       "Date                                                                    \n",
       "2015-01-02   78.449997   308.519989   24.861401   49.848572   523.373108\n",
       "2015-01-05   77.190002   302.190002   24.161013   47.311428   512.463013\n",
       "2015-01-06   76.150002   295.290009   24.163294   46.501431   500.585632\n",
       "2015-01-07   76.150002   298.420013   24.502111   46.742859   499.727997\n",
       "2015-01-08   78.180000   300.459991   25.443539   47.779999   501.303680\n",
       "...                ...          ...         ...         ...          ...\n",
       "2020-12-24  267.399994  3172.689941  131.773087  513.969971  1738.849976\n",
       "2020-12-28  277.000000  3283.959961  136.486053  519.119995  1776.089966\n",
       "2020-12-29  276.779999  3322.000000  134.668762  530.869995  1758.719971\n",
       "2020-12-30  271.869995  3285.850098  133.520477  524.590027  1739.520020\n",
       "2020-12-31  273.160004  3256.929932  132.492020  540.729980  1751.880005\n",
       "\n",
       "[1511 rows x 5 columns]"
      ]
     },
     "execution_count": 3,
     "metadata": {},
     "output_type": "execute_result"
    }
   ],
   "source": [
    "# Scarico i prezzi di mercato degli asset\n",
    "\n",
    "stockStartDate = '2015-01-01'\n",
    "stockEndDate = '2020-12-31'\n",
    "# today = datetime.today().strftime('%Y-%m-%d')\n",
    "\n",
    "df = pd.DataFrame()\n",
    "for stock in assets:\n",
    "    df[stock] = web.DataReader(stock, data_source='yahoo', start = stockStartDate, end = stockEndDate)['Adj Close']\n",
    "\n",
    "df"
   ]
  },
  {
   "cell_type": "code",
   "execution_count": 4,
   "metadata": {},
   "outputs": [
    {
     "data": {
      "image/png": "[encoded data removed]",
      "text/plain": [
       "<Figure size 432x288 with 1 Axes>"
      ]
     },
     "metadata": {},
     "output_type": "display_data"
    }
   ],
   "source": [
    "# Visualizzo l'andamento dei prezzi degli asset scelti\n",
    "\n",
    "title = 'Prezzo Asset in Portafoglio'\n",
    "my_stocks = df\n",
    "\n",
    "for c in my_stocks.columns.values:\n",
    "    plt.plot(my_stocks[c], label =c)\n",
    "\n",
    "plt.title(title)\n",
    "plt.xlabel('Data', fontsize = 18)\n",
    "plt.ylabel('Prezzo ($)', fontsize = 18)\n",
    "plt.legend(my_stocks.columns.values, loc = 'upper left')\n",
    "plt.show()"
   ]
  },
  {
   "cell_type": "code",
   "execution_count": 5,
   "metadata": {},
   "outputs": [
    {
     "data": {
      "text/html": [
       "<div>\n",
       "<style scoped>\n",
       "    .dataframe tbody tr th:only-of-type {\n",
       "        vertical-align: middle;\n",
       "    }\n",
       "\n",
       "    .dataframe tbody tr th {\n",
       "        vertical-align: top;\n",
       "    }\n",
       "\n",
       "    .dataframe thead th {\n",
       "        text-align: right;\n",
       "    }\n",
       "</style>\n",
       "<table border=\"1\" class=\"dataframe\">\n",
       "  <thead>\n",
       "    <tr style=\"text-align: right;\">\n",
       "      <th></th>\n",
       "      <th>FB</th>\n",
       "      <th>AMZN</th>\n",
       "      <th>AAPL</th>\n",
       "      <th>NFLX</th>\n",
       "      <th>GOOG</th>\n",
       "    </tr>\n",
       "    <tr>\n",
       "      <th>Date</th>\n",
       "      <th></th>\n",
       "      <th></th>\n",
       "      <th></th>\n",
       "      <th></th>\n",
       "      <th></th>\n",
       "    </tr>\n",
       "  </thead>\n",
       "  <tbody>\n",
       "    <tr>\n",
       "      <th>2015-01-05</th>\n",
       "      <td>-0.016061</td>\n",
       "      <td>-0.020517</td>\n",
       "      <td>-0.028172</td>\n",
       "      <td>-0.050897</td>\n",
       "      <td>-0.020846</td>\n",
       "    </tr>\n",
       "    <tr>\n",
       "      <th>2015-01-06</th>\n",
       "      <td>-0.013473</td>\n",
       "      <td>-0.022833</td>\n",
       "      <td>0.000094</td>\n",
       "      <td>-0.017121</td>\n",
       "      <td>-0.023177</td>\n",
       "    </tr>\n",
       "    <tr>\n",
       "      <th>2015-01-07</th>\n",
       "      <td>0.000000</td>\n",
       "      <td>0.010600</td>\n",
       "      <td>0.014022</td>\n",
       "      <td>0.005192</td>\n",
       "      <td>-0.001713</td>\n",
       "    </tr>\n",
       "    <tr>\n",
       "      <th>2015-01-08</th>\n",
       "      <td>0.026658</td>\n",
       "      <td>0.006836</td>\n",
       "      <td>0.038422</td>\n",
       "      <td>0.022188</td>\n",
       "      <td>0.003153</td>\n",
       "    </tr>\n",
       "    <tr>\n",
       "      <th>2015-01-09</th>\n",
       "      <td>-0.005628</td>\n",
       "      <td>-0.011749</td>\n",
       "      <td>0.001072</td>\n",
       "      <td>-0.015458</td>\n",
       "      <td>-0.012951</td>\n",
       "    </tr>\n",
       "    <tr>\n",
       "      <th>...</th>\n",
       "      <td>...</td>\n",
       "      <td>...</td>\n",
       "      <td>...</td>\n",
       "      <td>...</td>\n",
       "      <td>...</td>\n",
       "    </tr>\n",
       "    <tr>\n",
       "      <th>2020-12-24</th>\n",
       "      <td>-0.002648</td>\n",
       "      <td>-0.003949</td>\n",
       "      <td>0.007712</td>\n",
       "      <td>-0.000991</td>\n",
       "      <td>0.003735</td>\n",
       "    </tr>\n",
       "    <tr>\n",
       "      <th>2020-12-28</th>\n",
       "      <td>0.035901</td>\n",
       "      <td>0.035071</td>\n",
       "      <td>0.035766</td>\n",
       "      <td>0.010020</td>\n",
       "      <td>0.021416</td>\n",
       "    </tr>\n",
       "    <tr>\n",
       "      <th>2020-12-29</th>\n",
       "      <td>-0.000794</td>\n",
       "      <td>0.011584</td>\n",
       "      <td>-0.013315</td>\n",
       "      <td>0.022634</td>\n",
       "      <td>-0.009780</td>\n",
       "    </tr>\n",
       "    <tr>\n",
       "      <th>2020-12-30</th>\n",
       "      <td>-0.017740</td>\n",
       "      <td>-0.010882</td>\n",
       "      <td>-0.008527</td>\n",
       "      <td>-0.011830</td>\n",
       "      <td>-0.010917</td>\n",
       "    </tr>\n",
       "    <tr>\n",
       "      <th>2020-12-31</th>\n",
       "      <td>0.004745</td>\n",
       "      <td>-0.008801</td>\n",
       "      <td>-0.007703</td>\n",
       "      <td>0.030767</td>\n",
       "      <td>0.007105</td>\n",
       "    </tr>\n",
       "  </tbody>\n",
       "</table>\n",
       "<p>1510 rows × 5 columns</p>\n",
       "</div>"
      ],
      "text/plain": [
       "                  FB      AMZN      AAPL      NFLX      GOOG\n",
       "Date                                                        \n",
       "2015-01-05 -0.016061 -0.020517 -0.028172 -0.050897 -0.020846\n",
       "2015-01-06 -0.013473 -0.022833  0.000094 -0.017121 -0.023177\n",
       "2015-01-07  0.000000  0.010600  0.014022  0.005192 -0.001713\n",
       "2015-01-08  0.026658  0.006836  0.038422  0.022188  0.003153\n",
       "2015-01-09 -0.005628 -0.011749  0.001072 -0.015458 -0.012951\n",
       "...              ...       ...       ...       ...       ...\n",
       "2020-12-24 -0.002648 -0.003949  0.007712 -0.000991  0.003735\n",
       "2020-12-28  0.035901  0.035071  0.035766  0.010020  0.021416\n",
       "2020-12-29 -0.000794  0.011584 -0.013315  0.022634 -0.009780\n",
       "2020-12-30 -0.017740 -0.010882 -0.008527 -0.011830 -0.010917\n",
       "2020-12-31  0.004745 -0.008801 -0.007703  0.030767  0.007105\n",
       "\n",
       "[1510 rows x 5 columns]"
      ]
     },
     "execution_count": 5,
     "metadata": {},
     "output_type": "execute_result"
    }
   ],
   "source": [
    "# In luogo dei prezzi, utilizziamo i simple returns\n",
    "\n",
    "returns = expected_returns.returns_from_prices(df).dropna()\n",
    "returns"
   ]
  },
  {
   "cell_type": "code",
   "execution_count": 6,
   "metadata": {},
   "outputs": [
    {
     "data": {
      "text/plain": [
       "FB      0.259325\n",
       "AMZN    0.441122\n",
       "AAPL    0.323324\n",
       "NFLX    0.487253\n",
       "GOOG    0.237748\n",
       "dtype: float64"
      ]
     },
     "execution_count": 6,
     "metadata": {},
     "output_type": "execute_result"
    }
   ],
   "source": [
    "# Calcolo il valore atteso annualizzato del rendimento degli asset\n",
    "\n",
    "mu_v = returns.mean()*252\n",
    "mu_v"
   ]
  },
  {
   "cell_type": "code",
   "execution_count": 7,
   "metadata": {},
   "outputs": [
    {
     "data": {
      "text/plain": [
       "FB      0.101473\n",
       "AMZN    0.096014\n",
       "AAPL    0.087807\n",
       "NFLX    0.180231\n",
       "GOOG    0.072494\n",
       "dtype: float64"
      ]
     },
     "execution_count": 7,
     "metadata": {},
     "output_type": "execute_result"
    }
   ],
   "source": [
    "# Calcolo la varianza annualizzata del rendimento degli asset\n",
    "\n",
    "var_v = returns.var()*252\n",
    "var_v"
   ]
  },
  {
   "cell_type": "code",
   "execution_count": 8,
   "metadata": {},
   "outputs": [
    {
     "data": {
      "image/png": "[encoded data removed]",
      "text/plain": [
       "<Figure size 432x288 with 1 Axes>"
      ]
     },
     "metadata": {},
     "output_type": "display_data"
    }
   ],
   "source": [
    "mu = mu_v.loc['AMZN']\n",
    "variance = var_v.loc['AMZN']\n",
    "\n",
    "sigma = math.sqrt(variance)\n",
    "x = np.linspace(mu - 3*sigma, mu + 3*sigma, 100)\n",
    "plt.plot(x, stats.norm.pdf(x, mu, sigma))\n",
    "plt.show()"
   ]
  },
  {
   "cell_type": "code",
   "execution_count": null,
   "metadata": {},
   "outputs": [],
   "source": []
  }
 ],
 "metadata": {
  "kernelspec": {
   "display_name": "Python 3",
   "language": "python",
   "name": "python3"
  },
  "language_info": {
   "codemirror_mode": {
    "name": "ipython",
    "version": 3
   },
   "file_extension": ".py",
   "mimetype": "text/x-python",
   "name": "python",
   "nbconvert_exporter": "python",
   "pygments_lexer": "ipython3",
   "version": "3.8.5"
  }
 },
 "nbformat": 4,
 "nbformat_minor": 4
}
