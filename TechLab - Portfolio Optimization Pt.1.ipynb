{
 "cells": [
  {
   "cell_type": "markdown",
   "metadata": {},
   "source": [
    "# TechLab - Portfolio Optimization Pt.1"
   ]
  },
  {
   "cell_type": "markdown",
   "metadata": {},
   "source": [
    "Nel primo laboratorio prenderemo confidenza con l’ambiente di laboratorio Jupyter, impareremo ad ottenere le quotazioni giornaliere di mercato e calcolremo valori attesi dei rendimenti e varianze annualizzate."
   ]
  },
  {
   "cell_type": "code",
   "execution_count": 1,
   "metadata": {},
   "outputs": [],
   "source": [
    "from pandas_datareader import data as web\n",
    "import pandas as pd\n",
    "import numpy as np\n",
    "from datetime import datetime\n",
    "import matplotlib.pyplot as plt\n",
    "plt.style.use('fivethirtyeight')\n",
    "\n",
    "import scipy.stats as stats\n",
    "import math\n",
    "from pypfopt import expected_returns"
   ]
  },
  {
   "cell_type": "code",
   "execution_count": 2,
   "metadata": {},
   "outputs": [],
   "source": [
    "# Scelgo gli asset su cui effettuare l'analisi\n",
    "\n",
    "assets = ['FB', 'AMZN', 'AAPL', 'NFLX', 'GOOG']"
   ]
  },
  {
   "cell_type": "code",
   "execution_count": 3,
   "metadata": {},
   "outputs": [
    {
     "data": {
      "text/html": [
       "<div>\n",
       "<style scoped>\n",
       "    .dataframe tbody tr th:only-of-type {\n",
       "        vertical-align: middle;\n",
       "    }\n",
       "\n",
       "    .dataframe tbody tr th {\n",
       "        vertical-align: top;\n",
       "    }\n",
       "\n",
       "    .dataframe thead th {\n",
       "        text-align: right;\n",
       "    }\n",
       "</style>\n",
       "<table border=\"1\" class=\"dataframe\">\n",
       "  <thead>\n",
       "    <tr style=\"text-align: right;\">\n",
       "      <th></th>\n",
       "      <th>FB</th>\n",
       "      <th>AMZN</th>\n",
       "      <th>AAPL</th>\n",
       "      <th>NFLX</th>\n",
       "      <th>GOOG</th>\n",
       "    </tr>\n",
       "    <tr>\n",
       "      <th>Date</th>\n",
       "      <th></th>\n",
       "      <th></th>\n",
       "      <th></th>\n",
       "      <th></th>\n",
       "      <th></th>\n",
       "    </tr>\n",
       "  </thead>\n",
       "  <tbody>\n",
       "    <tr>\n",
       "      <th>2020-01-02</th>\n",
       "      <td>209.779999</td>\n",
       "      <td>1898.010010</td>\n",
       "      <td>74.333511</td>\n",
       "      <td>329.809998</td>\n",
       "      <td>1367.369995</td>\n",
       "    </tr>\n",
       "    <tr>\n",
       "      <th>2020-01-03</th>\n",
       "      <td>208.669998</td>\n",
       "      <td>1874.969971</td>\n",
       "      <td>73.610840</td>\n",
       "      <td>325.899994</td>\n",
       "      <td>1360.660034</td>\n",
       "    </tr>\n",
       "    <tr>\n",
       "      <th>2020-01-06</th>\n",
       "      <td>212.600006</td>\n",
       "      <td>1902.880005</td>\n",
       "      <td>74.197395</td>\n",
       "      <td>335.829987</td>\n",
       "      <td>1394.209961</td>\n",
       "    </tr>\n",
       "    <tr>\n",
       "      <th>2020-01-07</th>\n",
       "      <td>213.059998</td>\n",
       "      <td>1906.859985</td>\n",
       "      <td>73.848442</td>\n",
       "      <td>330.750000</td>\n",
       "      <td>1393.339966</td>\n",
       "    </tr>\n",
       "    <tr>\n",
       "      <th>2020-01-08</th>\n",
       "      <td>215.220001</td>\n",
       "      <td>1891.969971</td>\n",
       "      <td>75.036385</td>\n",
       "      <td>339.260010</td>\n",
       "      <td>1404.319946</td>\n",
       "    </tr>\n",
       "    <tr>\n",
       "      <th>...</th>\n",
       "      <td>...</td>\n",
       "      <td>...</td>\n",
       "      <td>...</td>\n",
       "      <td>...</td>\n",
       "      <td>...</td>\n",
       "    </tr>\n",
       "    <tr>\n",
       "      <th>2021-02-22</th>\n",
       "      <td>260.329987</td>\n",
       "      <td>3180.739990</td>\n",
       "      <td>126.000000</td>\n",
       "      <td>533.780029</td>\n",
       "      <td>2064.879883</td>\n",
       "    </tr>\n",
       "    <tr>\n",
       "      <th>2021-02-23</th>\n",
       "      <td>265.859985</td>\n",
       "      <td>3194.500000</td>\n",
       "      <td>125.860001</td>\n",
       "      <td>546.150024</td>\n",
       "      <td>2070.860107</td>\n",
       "    </tr>\n",
       "    <tr>\n",
       "      <th>2021-02-24</th>\n",
       "      <td>264.309998</td>\n",
       "      <td>3159.530029</td>\n",
       "      <td>125.349998</td>\n",
       "      <td>553.409973</td>\n",
       "      <td>2095.169922</td>\n",
       "    </tr>\n",
       "    <tr>\n",
       "      <th>2021-02-25</th>\n",
       "      <td>254.690002</td>\n",
       "      <td>3057.159912</td>\n",
       "      <td>120.989998</td>\n",
       "      <td>546.700012</td>\n",
       "      <td>2031.359985</td>\n",
       "    </tr>\n",
       "    <tr>\n",
       "      <th>2021-02-26</th>\n",
       "      <td>257.619995</td>\n",
       "      <td>3092.929932</td>\n",
       "      <td>121.260002</td>\n",
       "      <td>538.849976</td>\n",
       "      <td>2036.859985</td>\n",
       "    </tr>\n",
       "  </tbody>\n",
       "</table>\n",
       "<p>291 rows × 5 columns</p>\n",
       "</div>"
      ],
      "text/plain": [
       "                    FB         AMZN        AAPL        NFLX         GOOG\n",
       "Date                                                                    \n",
       "2020-01-02  209.779999  1898.010010   74.333511  329.809998  1367.369995\n",
       "2020-01-03  208.669998  1874.969971   73.610840  325.899994  1360.660034\n",
       "2020-01-06  212.600006  1902.880005   74.197395  335.829987  1394.209961\n",
       "2020-01-07  213.059998  1906.859985   73.848442  330.750000  1393.339966\n",
       "2020-01-08  215.220001  1891.969971   75.036385  339.260010  1404.319946\n",
       "...                ...          ...         ...         ...          ...\n",
       "2021-02-22  260.329987  3180.739990  126.000000  533.780029  2064.879883\n",
       "2021-02-23  265.859985  3194.500000  125.860001  546.150024  2070.860107\n",
       "2021-02-24  264.309998  3159.530029  125.349998  553.409973  2095.169922\n",
       "2021-02-25  254.690002  3057.159912  120.989998  546.700012  2031.359985\n",
       "2021-02-26  257.619995  3092.929932  121.260002  538.849976  2036.859985\n",
       "\n",
       "[291 rows x 5 columns]"
      ]
     },
     "execution_count": 3,
     "metadata": {},
     "output_type": "execute_result"
    }
   ],
   "source": [
    "# Scarico i prezzi di mercato degli asset\n",
    "\n",
    "stockStartDate = '2020-01-01'\n",
    "today = datetime.today().strftime('%Y-%m-%d')\n",
    "\n",
    "df = pd.DataFrame()\n",
    "for stock in assets:\n",
    "    df[stock] = web.DataReader(stock, data_source='yahoo', start = stockStartDate, end = today)['Adj Close']\n",
    "\n",
    "df"
   ]
  },
  {
   "cell_type": "code",
   "execution_count": 4,
   "metadata": {},
   "outputs": [
    {
     "data": {
      "image/png": "[encoded data removed]",
      "text/plain": [
       "<Figure size 432x288 with 1 Axes>"
      ]
     },
     "metadata": {},
     "output_type": "display_data"
    }
   ],
   "source": [
    "# Visualizzo l'andamento dei prezzi degli asset scelti\n",
    "\n",
    "title = 'Prezzo Asset in Portafoglio'\n",
    "my_stocks = df\n",
    "\n",
    "for c in my_stocks.columns.values:\n",
    "    plt.plot(my_stocks[c], label =c)\n",
    "\n",
    "plt.title(title)\n",
    "plt.xlabel('Data', fontsize = 18)\n",
    "plt.ylabel('Prezzo ($)', fontsize = 18)\n",
    "plt.legend(my_stocks.columns.values, loc = 'upper left')\n",
    "plt.show()"
   ]
  },
  {
   "cell_type": "code",
   "execution_count": 5,
   "metadata": {},
   "outputs": [
    {
     "data": {
      "text/html": [
       "<div>\n",
       "<style scoped>\n",
       "    .dataframe tbody tr th:only-of-type {\n",
       "        vertical-align: middle;\n",
       "    }\n",
       "\n",
       "    .dataframe tbody tr th {\n",
       "        vertical-align: top;\n",
       "    }\n",
       "\n",
       "    .dataframe thead th {\n",
       "        text-align: right;\n",
       "    }\n",
       "</style>\n",
       "<table border=\"1\" class=\"dataframe\">\n",
       "  <thead>\n",
       "    <tr style=\"text-align: right;\">\n",
       "      <th></th>\n",
       "      <th>FB</th>\n",
       "      <th>AMZN</th>\n",
       "      <th>AAPL</th>\n",
       "      <th>NFLX</th>\n",
       "      <th>GOOG</th>\n",
       "    </tr>\n",
       "    <tr>\n",
       "      <th>Date</th>\n",
       "      <th></th>\n",
       "      <th></th>\n",
       "      <th></th>\n",
       "      <th></th>\n",
       "      <th></th>\n",
       "    </tr>\n",
       "  </thead>\n",
       "  <tbody>\n",
       "    <tr>\n",
       "      <th>2020-01-03</th>\n",
       "      <td>-0.005291</td>\n",
       "      <td>-0.012139</td>\n",
       "      <td>-0.009722</td>\n",
       "      <td>-0.011855</td>\n",
       "      <td>-0.004907</td>\n",
       "    </tr>\n",
       "    <tr>\n",
       "      <th>2020-01-06</th>\n",
       "      <td>0.018834</td>\n",
       "      <td>0.014886</td>\n",
       "      <td>0.007968</td>\n",
       "      <td>0.030469</td>\n",
       "      <td>0.024657</td>\n",
       "    </tr>\n",
       "    <tr>\n",
       "      <th>2020-01-07</th>\n",
       "      <td>0.002164</td>\n",
       "      <td>0.002092</td>\n",
       "      <td>-0.004703</td>\n",
       "      <td>-0.015127</td>\n",
       "      <td>-0.000624</td>\n",
       "    </tr>\n",
       "    <tr>\n",
       "      <th>2020-01-08</th>\n",
       "      <td>0.010138</td>\n",
       "      <td>-0.007809</td>\n",
       "      <td>0.016086</td>\n",
       "      <td>0.025729</td>\n",
       "      <td>0.007880</td>\n",
       "    </tr>\n",
       "    <tr>\n",
       "      <th>2020-01-09</th>\n",
       "      <td>0.014311</td>\n",
       "      <td>0.004799</td>\n",
       "      <td>0.021241</td>\n",
       "      <td>-0.010611</td>\n",
       "      <td>0.011044</td>\n",
       "    </tr>\n",
       "    <tr>\n",
       "      <th>...</th>\n",
       "      <td>...</td>\n",
       "      <td>...</td>\n",
       "      <td>...</td>\n",
       "      <td>...</td>\n",
       "      <td>...</td>\n",
       "    </tr>\n",
       "    <tr>\n",
       "      <th>2021-02-22</th>\n",
       "      <td>-0.004703</td>\n",
       "      <td>-0.021281</td>\n",
       "      <td>-0.029799</td>\n",
       "      <td>-0.011921</td>\n",
       "      <td>-0.017257</td>\n",
       "    </tr>\n",
       "    <tr>\n",
       "      <th>2021-02-23</th>\n",
       "      <td>0.021242</td>\n",
       "      <td>0.004326</td>\n",
       "      <td>-0.001111</td>\n",
       "      <td>0.023174</td>\n",
       "      <td>0.002896</td>\n",
       "    </tr>\n",
       "    <tr>\n",
       "      <th>2021-02-24</th>\n",
       "      <td>-0.005830</td>\n",
       "      <td>-0.010947</td>\n",
       "      <td>-0.004052</td>\n",
       "      <td>0.013293</td>\n",
       "      <td>0.011739</td>\n",
       "    </tr>\n",
       "    <tr>\n",
       "      <th>2021-02-25</th>\n",
       "      <td>-0.036397</td>\n",
       "      <td>-0.032400</td>\n",
       "      <td>-0.034783</td>\n",
       "      <td>-0.012125</td>\n",
       "      <td>-0.030456</td>\n",
       "    </tr>\n",
       "    <tr>\n",
       "      <th>2021-02-26</th>\n",
       "      <td>0.011504</td>\n",
       "      <td>0.011700</td>\n",
       "      <td>0.002232</td>\n",
       "      <td>-0.014359</td>\n",
       "      <td>0.002708</td>\n",
       "    </tr>\n",
       "  </tbody>\n",
       "</table>\n",
       "<p>290 rows × 5 columns</p>\n",
       "</div>"
      ],
      "text/plain": [
       "                  FB      AMZN      AAPL      NFLX      GOOG\n",
       "Date                                                        \n",
       "2020-01-03 -0.005291 -0.012139 -0.009722 -0.011855 -0.004907\n",
       "2020-01-06  0.018834  0.014886  0.007968  0.030469  0.024657\n",
       "2020-01-07  0.002164  0.002092 -0.004703 -0.015127 -0.000624\n",
       "2020-01-08  0.010138 -0.007809  0.016086  0.025729  0.007880\n",
       "2020-01-09  0.014311  0.004799  0.021241 -0.010611  0.011044\n",
       "...              ...       ...       ...       ...       ...\n",
       "2021-02-22 -0.004703 -0.021281 -0.029799 -0.011921 -0.017257\n",
       "2021-02-23  0.021242  0.004326 -0.001111  0.023174  0.002896\n",
       "2021-02-24 -0.005830 -0.010947 -0.004052  0.013293  0.011739\n",
       "2021-02-25 -0.036397 -0.032400 -0.034783 -0.012125 -0.030456\n",
       "2021-02-26  0.011504  0.011700  0.002232 -0.014359  0.002708\n",
       "\n",
       "[290 rows x 5 columns]"
      ]
     },
     "execution_count": 5,
     "metadata": {},
     "output_type": "execute_result"
    }
   ],
   "source": [
    "# In luogo dei prezzi, utilizziamo i simple returns\n",
    "\n",
    "returns = expected_returns.returns_from_prices(df).dropna()\n",
    "returns"
   ]
  },
  {
   "cell_type": "code",
   "execution_count": 6,
   "metadata": {},
   "outputs": [
    {
     "data": {
      "text/plain": [
       "FB      0.276674\n",
       "AMZN    0.493420\n",
       "AAPL    0.526575\n",
       "NFLX    0.537290\n",
       "GOOG    0.417687\n",
       "dtype: float64"
      ]
     },
     "execution_count": 6,
     "metadata": {},
     "output_type": "execute_result"
    }
   ],
   "source": [
    "# Calcolo il valore atteso annualizzato del rendimento degli asset\n",
    "\n",
    "mu_v = returns.mean()*252\n",
    "mu_v"
   ]
  },
  {
   "cell_type": "code",
   "execution_count": 7,
   "metadata": {},
   "outputs": [
    {
     "data": {
      "text/plain": [
       "FB      0.195977\n",
       "AMZN    0.138395\n",
       "AAPL    0.202502\n",
       "NFLX    0.223674\n",
       "GOOG    0.142491\n",
       "dtype: float64"
      ]
     },
     "execution_count": 7,
     "metadata": {},
     "output_type": "execute_result"
    }
   ],
   "source": [
    "# Calcolo la varianza annualizzata del rendimento degli asset\n",
    "\n",
    "var_v = returns.var()*252\n",
    "var_v"
   ]
  },
  {
   "cell_type": "code",
   "execution_count": 8,
   "metadata": {},
   "outputs": [
    {
     "data": {
      "image/png": "[encoded data removed]",
      "text/plain": [
       "<Figure size 432x288 with 1 Axes>"
      ]
     },
     "metadata": {},
     "output_type": "display_data"
    }
   ],
   "source": [
    "mu = mu_v.loc['AMZN']\n",
    "variance = var_v.loc['AMZN']\n",
    "\n",
    "sigma = math.sqrt(variance)\n",
    "x = np.linspace(mu - 3*sigma, mu + 3*sigma, 100)\n",
    "plt.plot(x, stats.norm.pdf(x, mu, sigma))\n",
    "plt.show()"
   ]
  },
  {
   "cell_type": "code",
   "execution_count": null,
   "metadata": {},
   "outputs": [],
   "source": []
  }
 ],
 "metadata": {
  "kernelspec": {
   "display_name": "Python 3",
   "language": "python",
   "name": "python3"
  },
  "language_info": {
   "codemirror_mode": {
    "name": "ipython",
    "version": 3
   },
   "file_extension": ".py",
   "mimetype": "text/x-python",
   "name": "python",
   "nbconvert_exporter": "python",
   "pygments_lexer": "ipython3",
   "version": "3.8.5"
  }
 },
 "nbformat": 4,
 "nbformat_minor": 4
}
