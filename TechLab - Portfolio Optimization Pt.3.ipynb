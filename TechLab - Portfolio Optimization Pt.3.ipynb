{
 "cells": [
  {
   "cell_type": "markdown",
   "metadata": {},
   "source": [
    "# TechLab - Portfolio Optimization Pt.3"
   ]
  },
  {
   "cell_type": "markdown",
   "metadata": {},
   "source": [
    "Nel terzo laboratorio applicheremo un'ottimizzazione di portafoglio attraverso l'uso di una rete neurale seguendo quattro fasi:\n",
    "1. Download e preparazione dei dati\n",
    "2. Definition della rete neurale\n",
    "3. Addestramento\n",
    "4. Valutazione e visualizzazione dei risultati"
   ]
  },
  {
   "cell_type": "code",
   "execution_count": 1,
   "metadata": {},
   "outputs": [],
   "source": [
    "%matplotlib inline\n",
    "from deepdow.benchmarks import Benchmark, OneOverN, Random\n",
    "from deepdow.callbacks import EarlyStoppingCallback\n",
    "from deepdow.data import InRAMDataset, RigidDataLoader, prepare_standard_scaler, Scale\n",
    "from deepdow.data.synthetic import sin_single\n",
    "from deepdow.experiments import Run\n",
    "from deepdow.layers import SoftmaxAllocator\n",
    "from deepdow.losses import MeanReturns, SharpeRatio, MaximumDrawdown\n",
    "from deepdow.visualize import generate_metrics_table, generate_weights_table, plot_metrics, plot_weight_heatmap\n",
    "from deepdow.utils import raw_to_Xy\n",
    "import matplotlib.pyplot as plt\n",
    "import numpy as np\n",
    "import torch\n",
    "import datetime\n",
    "import pandas as pd\n",
    "import pandas_datareader.data as web\n",
    "from pypfopt import expected_returns"
   ]
  },
  {
   "cell_type": "markdown",
   "metadata": {},
   "source": [
    "Al fine di rendere i risultati riproducibili fissiamo il seed per `numpy` e `torch`."
   ]
  },
  {
   "cell_type": "code",
   "execution_count": 2,
   "metadata": {},
   "outputs": [],
   "source": [
    "torch.manual_seed(4)\n",
    "np.random.seed(5)"
   ]
  },
  {
   "cell_type": "markdown",
   "metadata": {},
   "source": [
    "## Caricamento e preparazione del dataset\n"
   ]
  },
  {
   "cell_type": "code",
   "execution_count": 3,
   "metadata": {},
   "outputs": [],
   "source": [
    "start = datetime.datetime(2015, 1, 1) \n",
    "end = datetime.datetime(2020, 12, 31)\n",
    "\n",
    "tickers = ['FB', 'AMZN', 'AAPL', 'NFLX', 'GOOG']\n",
    "raw_df = web.DataReader(tickers, 'yahoo', start=start, end=end)[['Adj Close']]"
   ]
  },
  {
   "cell_type": "code",
   "execution_count": 4,
   "metadata": {},
   "outputs": [],
   "source": [
    "raw_df.columns = pd.MultiIndex.from_product([['FB', 'AMZN', 'AAPL', 'NFLX', 'GOOG'], ['Adj Close']], names=['Ticker', 'Attribute'])"
   ]
  },
  {
   "cell_type": "code",
   "execution_count": 5,
   "metadata": {},
   "outputs": [],
   "source": [
    "assert isinstance(raw_df, pd.DataFrame)\n",
    "assert isinstance(raw_df.index, pd.DatetimeIndex)\n",
    "assert isinstance(raw_df.columns, pd.MultiIndex)"
   ]
  },
  {
   "cell_type": "code",
   "execution_count": 6,
   "metadata": {},
   "outputs": [],
   "source": [
    "n_timesteps = len(raw_df)  \n",
    "n_channels = len(raw_df.columns.levels[1])  \n",
    "n_assets = len(raw_df.columns.levels[0])"
   ]
  },
  {
   "cell_type": "code",
   "execution_count": 7,
   "metadata": {},
   "outputs": [
    {
     "name": "stdout",
     "output_type": "stream",
     "text": [
      "Timesteps = 1511\n",
      "Channels = 1\n",
      "Assets = 5\n"
     ]
    }
   ],
   "source": [
    "print('Timesteps = '+ str(n_timesteps))\n",
    "print('Channels = '+ str(n_channels))\n",
    "print('Assets = '+ str(n_assets))"
   ]
  },
  {
   "cell_type": "code",
   "execution_count": 8,
   "metadata": {},
   "outputs": [],
   "source": [
    "lookback, gap, horizon = 60, 1, 30"
   ]
  },
  {
   "cell_type": "code",
   "execution_count": 9,
   "metadata": {},
   "outputs": [],
   "source": [
    "X, timestamps, y, asset_names, indicators = raw_to_Xy(raw_df,\n",
    "                                                      lookback=lookback,\n",
    "                                                      gap=gap,\n",
    "                                                      freq=\"B\",\n",
    "                                                      horizon=horizon)"
   ]
  },
  {
   "cell_type": "code",
   "execution_count": 10,
   "metadata": {},
   "outputs": [
    {
     "data": {
      "text/plain": [
       "1420"
      ]
     },
     "execution_count": 10,
     "metadata": {},
     "output_type": "execute_result"
    }
   ],
   "source": [
    "n_samples = n_timesteps - lookback - horizon - gap \n",
    "n_samples"
   ]
  },
  {
   "cell_type": "code",
   "execution_count": 11,
   "metadata": {},
   "outputs": [
    {
     "name": "stdout",
     "output_type": "stream",
     "text": [
      "Train range: 0:1135\n",
      "Test range: 1226:1419\n"
     ]
    }
   ],
   "source": [
    "split_ix = int(n_samples * 0.8)\n",
    "indices_train = list(range(split_ix))\n",
    "indices_test = list(range(split_ix + lookback + horizon, n_samples))\n",
    "\n",
    "print('Train range: {}:{}\\nTest range: {}:{}'.format(indices_train[0], indices_train[-1],\n",
    "                                                     indices_test[0], indices_test[-1]))"
   ]
  },
  {
   "cell_type": "markdown",
   "metadata": {},
   "source": [
    "Procediamo alla costruzione del `InRAMDataset` per lo stream dei dati."
   ]
  },
  {
   "cell_type": "code",
   "execution_count": 12,
   "metadata": {},
   "outputs": [],
   "source": [
    "dataset = InRAMDataset(X, y, timestamps=timestamps, asset_names=asset_names)\n",
    "\n",
    "X_sample, y_sample, timestamp_sample, asset_names = dataset[0]"
   ]
  },
  {
   "cell_type": "markdown",
   "metadata": {},
   "source": [
    "Usando l'oggetto `dataset` possiamo costruire due dataloaders, uno per il training e l'altro per il test."
   ]
  },
  {
   "cell_type": "code",
   "execution_count": 13,
   "metadata": {},
   "outputs": [],
   "source": [
    "dataloader_train = RigidDataLoader(dataset,\n",
    "                                   indices=indices_train,\n",
    "                                   batch_size=32)\n",
    "\n",
    "dataloader_test = RigidDataLoader(dataset,\n",
    "                                  indices=indices_test,\n",
    "                                  batch_size=32)"
   ]
  },
  {
   "cell_type": "markdown",
   "metadata": {},
   "source": [
    "## Definizione del network"
   ]
  },
  {
   "cell_type": "code",
   "execution_count": 14,
   "metadata": {},
   "outputs": [],
   "source": [
    "class GreatNet(torch.nn.Module, Benchmark):\n",
    "    def __init__(self, n_assets, lookback, p=0.5):\n",
    "        super().__init__()\n",
    "\n",
    "        n_features = n_assets * lookback\n",
    "\n",
    "        self.dropout_layer = torch.nn.Dropout(p=p)\n",
    "        self.dense_layer = torch.nn.Linear(n_features, n_assets, bias=True)\n",
    "        self.allocate_layer = SoftmaxAllocator(temperature=None)\n",
    "        self.temperature = torch.nn.Parameter(torch.ones(1), requires_grad=True)\n",
    "\n",
    "    def forward(self, x):\n",
    "        \"\"\"Perform forward pass.\n",
    "\n",
    "        Parameters\n",
    "        ----------\n",
    "        x : torch.Tensor\n",
    "            Of shape (n_samples, 1, lookback, n_assets).\n",
    "\n",
    "        Returns\n",
    "        -------\n",
    "        weights : torch.Torch\n",
    "            Tensor of shape (n_samples, n_assets).\n",
    "\n",
    "        \"\"\"\n",
    "        n_samples, _, _, _ = x.shape\n",
    "        x = x.view(n_samples, -1)  # flatten features\n",
    "        x = self.dropout_layer(x)\n",
    "        x = self.dense_layer(x)\n",
    "\n",
    "        temperatures = torch.ones(n_samples).to(device=x.device, dtype=x.dtype) * self.temperature\n",
    "        weights = self.allocate_layer(x, temperatures)\n",
    "\n",
    "        return weights"
   ]
  },
  {
   "cell_type": "markdown",
   "metadata": {},
   "source": [
    "Che cosa fa il network? Sotto l'assunzione che gli asset ed il lookback non cambino mai, prende in input il tensore delle feature `x` e produce un vettore di lunghezza `n_assets`. Poiché gli elementi di questo vettore possono variare da $-\\infty$\n",
    "a $+\\infty$, lo trasformiamo in una asset allocation con il `SoftmaxAllocator`.\n",
    "Inoltre, la rappresentazione termografica `temperature` ci permetterà di comprendere il trade-off ottimo tra una allocazione uniforme o una specifica per singolo asset."
   ]
  },
  {
   "cell_type": "code",
   "execution_count": 15,
   "metadata": {},
   "outputs": [
    {
     "name": "stdout",
     "output_type": "stream",
     "text": [
      "GreatNet(\n",
      "  (dropout_layer): Dropout(p=0.5, inplace=False)\n",
      "  (dense_layer): Linear(in_features=300, out_features=5, bias=True)\n",
      "  (allocate_layer): SoftmaxAllocator(\n",
      "    (layer): Softmax(dim=1)\n",
      "  )\n",
      ")\n"
     ]
    }
   ],
   "source": [
    "network = GreatNet(n_assets, lookback)\n",
    "print(network)"
   ]
  },
  {
   "cell_type": "markdown",
   "metadata": {},
   "source": [
    "Nella libreria `torch`, i networks sono o nello stato **train** o in quello **eval**. Poiché per ridurre il rischio di overfitting utilizzeremo la tecnica del *dropout*, è essenziale che lo stato venga impostato correttamente sulla base di ciò che si sta cercando di fare."
   ]
  },
  {
   "cell_type": "code",
   "execution_count": 16,
   "metadata": {},
   "outputs": [],
   "source": [
    "network = network.train()"
   ]
  },
  {
   "cell_type": "markdown",
   "metadata": {},
   "source": [
    "## Training\n",
    "E' tempo di definire la nostra funzione di perdita (loss function). E' possibile definire più obiettivi contemporaneamente: possiamo ad esempio voler massimizzare il rendimento atteso, massimizzare lo Sharpe Ratio e minimizzare i drawdowns. Tutte queste funzioni di perdita sono implementate nella funzionalità `deepdow.losses` e, per evitare possibili fraintendimenti, sono tutte definite in modo che **più è basso il valore delle funzioni di perdita, meglio è**. Per combinare più obiettivi è sufficidnte sommare le singole funzioni di perdita. Similarmente, se si vuole assegnare più importanza ad una di loro è sufficiente moltiplicarla per uno scalare."
   ]
  },
  {
   "cell_type": "code",
   "execution_count": 17,
   "metadata": {},
   "outputs": [],
   "source": [
    "loss = MaximumDrawdown() + 2 * MeanReturns() + SharpeRatio()"
   ]
  },
  {
   "cell_type": "markdown",
   "metadata": {},
   "source": [
    "Di default tutte le funzioni di perdita assumono come imput returns logaritmici (`input_type='log'`) che abbiamo memorizzato nel canale 0 (:code:`returns_channel=0`).\n",
    "\n"
   ]
  },
  {
   "cell_type": "markdown",
   "metadata": {},
   "source": [
    "Abbiamo ora tutti gli ingredienti pronti per addestrare la rete neurale. `deepdow` dispone del wrapper `Run` che implementa il loop di addestramento e un minimo framework di callback."
   ]
  },
  {
   "cell_type": "code",
   "execution_count": 18,
   "metadata": {},
   "outputs": [],
   "source": [
    "run = Run(network,\n",
    "          loss,\n",
    "          dataloader_train,\n",
    "          val_dataloaders={'test': dataloader_test},\n",
    "          optimizer=torch.optim.Adam(network.parameters(), amsgrad=True),\n",
    "          callbacks=[EarlyStoppingCallback(metric_name='loss',\n",
    "                                           dataloader_name='test',\n",
    "                                           patience=15)])"
   ]
  },
  {
   "cell_type": "markdown",
   "metadata": {},
   "source": [
    "Per avviare il loop di attestramento usiamo `launch` specificando il numero di epoche."
   ]
  },
  {
   "cell_type": "code",
   "execution_count": 19,
   "metadata": {},
   "outputs": [
    {
     "name": "stderr",
     "output_type": "stream",
     "text": [
      "Epoch 0:   0%|          | 0/36 [00:00<?, ?it/s]/usr/local/lib/python3.8/dist-packages/torch/autograd/__init__.py:130: UserWarning: CUDA initialization: Found no NVIDIA driver on your system. Please check that you have an NVIDIA GPU and installed a driver from http://www.nvidia.com/Download/index.aspx (Triggered internally at  /pytorch/c10/cuda/CUDAFunctions.cpp:100.)\n",
      "  Variable._execution_engine.run_backward(\n",
      "Epoch 0: 100%|██████████| 36/36 [00:00<00:00, 39.00it/s, loss=-0.05498, test_loss=-0.05744]\n",
      "Epoch 1: 100%|██████████| 36/36 [00:00<00:00, 91.02it/s, loss=-0.05516, test_loss=-0.05855]\n",
      "Epoch 2: 100%|██████████| 36/36 [00:00<00:00, 95.15it/s, loss=-0.05779, test_loss=-0.05968]\n",
      "Epoch 3: 100%|██████████| 36/36 [00:00<00:00, 109.53it/s, loss=-0.05866, test_loss=-0.06096]\n",
      "Epoch 4: 100%|██████████| 36/36 [00:00<00:00, 91.00it/s, loss=-0.05737, test_loss=-0.06235]\n",
      "Epoch 5: 100%|██████████| 36/36 [00:00<00:00, 109.55it/s, loss=-0.05881, test_loss=-0.06388]\n",
      "Epoch 6: 100%|██████████| 36/36 [00:00<00:00, 111.22it/s, loss=-0.05887, test_loss=-0.06556]\n",
      "Epoch 7: 100%|██████████| 36/36 [00:00<00:00, 86.46it/s, loss=-0.06094, test_loss=-0.06741]\n",
      "Epoch 8: 100%|██████████| 36/36 [00:00<00:00, 102.74it/s, loss=-0.06155, test_loss=-0.06943]\n",
      "Epoch 9: 100%|██████████| 36/36 [00:00<00:00, 98.80it/s, loss=-0.06280, test_loss=-0.07161] \n",
      "Epoch 10: 100%|██████████| 36/36 [00:00<00:00, 69.82it/s, loss=-0.06460, test_loss=-0.07344]\n",
      "Epoch 11: 100%|██████████| 36/36 [00:00<00:00, 110.97it/s, loss=-0.06507, test_loss=-0.07522]\n",
      "Epoch 12: 100%|██████████| 36/36 [00:00<00:00, 108.23it/s, loss=-0.06664, test_loss=-0.07655]\n",
      "Epoch 13: 100%|██████████| 36/36 [00:00<00:00, 104.63it/s, loss=-0.06489, test_loss=-0.07758]\n",
      "Epoch 14: 100%|██████████| 36/36 [00:00<00:00, 71.83it/s, loss=-0.06633, test_loss=-0.07857]\n",
      "Epoch 15: 100%|██████████| 36/36 [00:00<00:00, 87.44it/s, loss=-0.06571, test_loss=-0.07945]\n",
      "Epoch 16: 100%|██████████| 36/36 [00:00<00:00, 111.20it/s, loss=-0.06691, test_loss=-0.08003]\n",
      "Epoch 17: 100%|██████████| 36/36 [00:00<00:00, 104.01it/s, loss=-0.06706, test_loss=-0.08052]\n",
      "Epoch 18: 100%|██████████| 36/36 [00:00<00:00, 115.31it/s, loss=-0.06880, test_loss=-0.08116]\n",
      "Epoch 19: 100%|██████████| 36/36 [00:00<00:00, 110.89it/s, loss=-0.06780, test_loss=-0.08155]\n",
      "Epoch 20: 100%|██████████| 36/36 [00:00<00:00, 54.80it/s, loss=-0.06742, test_loss=-0.08183]\n",
      "Epoch 21: 100%|██████████| 36/36 [00:00<00:00, 92.59it/s, loss=-0.06868, test_loss=-0.08217] \n",
      "Epoch 22: 100%|██████████| 36/36 [00:00<00:00, 102.93it/s, loss=-0.06974, test_loss=-0.08232]\n",
      "Epoch 23: 100%|██████████| 36/36 [00:00<00:00, 90.36it/s, loss=-0.06881, test_loss=-0.08264]\n",
      "Epoch 24: 100%|██████████| 36/36 [00:00<00:00, 107.33it/s, loss=-0.06761, test_loss=-0.08282]\n",
      "Epoch 25: 100%|██████████| 36/36 [00:00<00:00, 100.43it/s, loss=-0.07145, test_loss=-0.08304]\n",
      "Epoch 26: 100%|██████████| 36/36 [00:00<00:00, 105.65it/s, loss=-0.07060, test_loss=-0.08324]\n",
      "Epoch 27: 100%|██████████| 36/36 [00:00<00:00, 102.13it/s, loss=-0.07078, test_loss=-0.08347]\n",
      "Epoch 28: 100%|██████████| 36/36 [00:00<00:00, 100.42it/s, loss=-0.07040, test_loss=-0.08367]\n",
      "Epoch 29: 100%|██████████| 36/36 [00:00<00:00, 98.11it/s, loss=-0.06990, test_loss=-0.08371] \n"
     ]
    }
   ],
   "source": [
    "history = run.launch(30)"
   ]
  },
  {
   "cell_type": "markdown",
   "metadata": {},
   "source": [
    "## Valutazione e visualizzazione\n",
    "L'oggetto `history` restituito da `launch` contiene diverse informazioni utili relative all'addestramento. In particolare, la proprietà `metrics` restituisce un Pandas Dataframe `pd.DataFrame` estremamente dettagliato.\n",
    "Per mostrare la media della perdita di test per ogni epoca possiamo lanciare il seguente codice:"
   ]
  },
  {
   "cell_type": "code",
   "execution_count": 20,
   "metadata": {},
   "outputs": [
    {
     "name": "stdout",
     "output_type": "stream",
     "text": [
      "dataloader  metric  model    epoch\n",
      "test        loss    network  0        194\n",
      "                             1        194\n",
      "                             2        194\n",
      "                             3        194\n",
      "                             4        194\n",
      "                             5        194\n",
      "                             6        194\n",
      "                             7        194\n",
      "                             8        194\n",
      "                             9        194\n",
      "                             10       194\n",
      "                             11       194\n",
      "                             12       194\n",
      "                             13       194\n",
      "                             14       194\n",
      "                             15       194\n",
      "                             16       194\n",
      "                             17       194\n",
      "                             18       194\n",
      "                             19       194\n",
      "                             20       194\n",
      "                             21       194\n",
      "                             22       194\n",
      "                             23       194\n",
      "                             24       194\n",
      "                             25       194\n",
      "                             26       194\n",
      "                             27       194\n",
      "                             28       194\n",
      "                             29       194\n",
      "Name: value, dtype: int64\n",
      "dataloader  metric  model    epoch\n",
      "test        loss    network  0       -0.057442\n",
      "                             1       -0.058555\n",
      "                             2       -0.059680\n",
      "                             3       -0.060963\n",
      "                             4       -0.062346\n",
      "                             5       -0.063885\n",
      "                             6       -0.065559\n",
      "                             7       -0.067410\n",
      "                             8       -0.069430\n",
      "                             9       -0.071609\n",
      "                             10      -0.073442\n",
      "                             11      -0.075216\n",
      "                             12      -0.076548\n",
      "                             13      -0.077579\n",
      "                             14      -0.078570\n",
      "                             15      -0.079454\n",
      "                             16      -0.080033\n",
      "                             17      -0.080521\n",
      "                             18      -0.081156\n",
      "                             19      -0.081549\n",
      "                             20      -0.081827\n",
      "                             21      -0.082169\n",
      "                             22      -0.082324\n",
      "                             23      -0.082636\n",
      "                             24      -0.082817\n",
      "                             25      -0.083036\n",
      "                             26      -0.083235\n",
      "                             27      -0.083466\n",
      "                             28      -0.083675\n",
      "                             29      -0.083709\n",
      "Name: value, dtype: float64\n"
     ]
    }
   ],
   "source": [
    "per_epoch_results = history.metrics.groupby(['dataloader', 'metric', 'model', 'epoch'])['value']\n",
    "\n",
    "print(per_epoch_results.count())  # double check number of samples each epoch\n",
    "print(per_epoch_results.mean())  # mean loss per epoch"
   ]
  },
  {
   "cell_type": "code",
   "execution_count": 21,
   "metadata": {},
   "outputs": [
    {
     "data": {
      "text/plain": [
       "<matplotlib.axes._subplots.AxesSubplot at 0x7f590cd61e50>"
      ]
     },
     "execution_count": 21,
     "metadata": {},
     "output_type": "execute_result"
    },
    {
     "data": {
      "image/png": "[encoded data removed]",
      "text/plain": [
       "<Figure size 432x288 with 1 Axes>"
      ]
     },
     "metadata": {
      "needs_background": "light"
     },
     "output_type": "display_data"
    }
   ],
   "source": [
    "per_epoch_results.mean()['test']['loss']['network'].plot()"
   ]
  },
  {
   "cell_type": "markdown",
   "metadata": {},
   "source": [
    "Per avere qualche insight in più su ciò che il nostro network prevede, possiamo usare il modulo `deepdow.visualize`.\n",
    "Prima di cominciare, però, è necessario settare il network nella modalità *eval*."
   ]
  },
  {
   "cell_type": "code",
   "execution_count": 22,
   "metadata": {},
   "outputs": [],
   "source": [
    "network = network.eval()"
   ]
  },
  {
   "cell_type": "markdown",
   "metadata": {},
   "source": [
    "Per avere un contesto per valutare le performance del network, può essere utile utilizzare dei benchmark e `deepdow` ne implementa alcuni. In più, possono esserne definiti di nuovi in modo personalizzato."
   ]
  },
  {
   "cell_type": "code",
   "execution_count": 23,
   "metadata": {},
   "outputs": [],
   "source": [
    "benchmarks = {\n",
    "    '1overN': OneOverN(),  # each asset has weight 1 / n_assets\n",
    "    'random': Random(),  # random allocation that is however close 1OverN\n",
    "    'network': network\n",
    "}"
   ]
  },
  {
   "cell_type": "markdown",
   "metadata": {},
   "source": [
    "Durante l'addestramento, l'unica metrica/perdita obbligatoria è quella associata alla funzione di perdita che cerchiamo di minimizzare ma ovviamente si può essere interessati a visualizzarne molte altre, come da esempio seguente."
   ]
  },
  {
   "cell_type": "code",
   "execution_count": 24,
   "metadata": {},
   "outputs": [],
   "source": [
    "metrics = {\n",
    "    'MaxDD': MaximumDrawdown(),\n",
    "    'Sharpe': SharpeRatio(),\n",
    "    'MeanReturn': MeanReturns()\n",
    "}"
   ]
  },
  {
   "cell_type": "markdown",
   "metadata": {},
   "source": [
    "Utilizziamo ora gli oggetti creati: anzitutto creiamo una tabella con tutte le metriche per tutti i campioni e per tutti i benchmark. Questo può essere fatto con la funzione `generate_metrics_table`."
   ]
  },
  {
   "cell_type": "code",
   "execution_count": 25,
   "metadata": {},
   "outputs": [],
   "source": [
    "metrics_table = generate_metrics_table(benchmarks,\n",
    "                                       dataloader_test,\n",
    "                                       metrics)"
   ]
  },
  {
   "cell_type": "markdown",
   "metadata": {},
   "source": [
    "E poi possiamo rappresentarla con `plot_metrics`."
   ]
  },
  {
   "cell_type": "code",
   "execution_count": 26,
   "metadata": {},
   "outputs": [
    {
     "data": {
      "text/plain": [
       "array([<matplotlib.axes._subplots.AxesSubplot object at 0x7f5910c23fd0>,\n",
       "       <matplotlib.axes._subplots.AxesSubplot object at 0x7f590c86fbb0>,\n",
       "       <matplotlib.axes._subplots.AxesSubplot object at 0x7f590c81ba90>],\n",
       "      dtype=object)"
      ]
     },
     "execution_count": 26,
     "metadata": {},
     "output_type": "execute_result"
    },
    {
     "data": {
      "image/png": "[encoded data removed]",
      "text/plain": [
       "<Figure size 432x288 with 3 Axes>"
      ]
     },
     "metadata": {
      "needs_background": "light"
     },
     "output_type": "display_data"
    }
   ],
   "source": [
    "plot_metrics(metrics_table)"
   ]
  },
  {
   "cell_type": "markdown",
   "metadata": {},
   "source": [
    "Each plot represents a different metric. The x-axis represents the timestamps in our\n",
    "test set. The different colors are capturing different models. How is the value of a metric\n",
    "computed? We assume that the investor predicts the portfolio at time x and buys it. He then\n",
    "holds it for :code:`horizon` timesteps. The actual metric is then computed over this time horizon.\n",
    "\n"
   ]
  },
  {
   "cell_type": "markdown",
   "metadata": {},
   "source": [
    "Finally, we are also interested in how the allocation/prediction looks like at each time step.\n",
    "We can use the :code:`generate_weights_table` function to create a :code:`pd.DataFrame`.\n",
    "\n"
   ]
  },
  {
   "cell_type": "code",
   "execution_count": 27,
   "metadata": {},
   "outputs": [
    {
     "data": {
      "text/html": [
       "<div>\n",
       "<style scoped>\n",
       "    .dataframe tbody tr th:only-of-type {\n",
       "        vertical-align: middle;\n",
       "    }\n",
       "\n",
       "    .dataframe tbody tr th {\n",
       "        vertical-align: top;\n",
       "    }\n",
       "\n",
       "    .dataframe thead th {\n",
       "        text-align: right;\n",
       "    }\n",
       "</style>\n",
       "<table border=\"1\" class=\"dataframe\">\n",
       "  <thead>\n",
       "    <tr style=\"text-align: right;\">\n",
       "      <th></th>\n",
       "      <th>AAPL</th>\n",
       "      <th>AMZN</th>\n",
       "      <th>FB</th>\n",
       "      <th>GOOG</th>\n",
       "      <th>NFLX</th>\n",
       "    </tr>\n",
       "  </thead>\n",
       "  <tbody>\n",
       "    <tr>\n",
       "      <th>2019-12-09</th>\n",
       "      <td>0.209574</td>\n",
       "      <td>0.612394</td>\n",
       "      <td>0.044057</td>\n",
       "      <td>0.066511</td>\n",
       "      <td>0.067463</td>\n",
       "    </tr>\n",
       "    <tr>\n",
       "      <th>2019-12-10</th>\n",
       "      <td>0.239664</td>\n",
       "      <td>0.552265</td>\n",
       "      <td>0.049426</td>\n",
       "      <td>0.075303</td>\n",
       "      <td>0.083343</td>\n",
       "    </tr>\n",
       "    <tr>\n",
       "      <th>2019-12-11</th>\n",
       "      <td>0.233795</td>\n",
       "      <td>0.583635</td>\n",
       "      <td>0.042125</td>\n",
       "      <td>0.067389</td>\n",
       "      <td>0.073055</td>\n",
       "    </tr>\n",
       "    <tr>\n",
       "      <th>2019-12-12</th>\n",
       "      <td>0.240172</td>\n",
       "      <td>0.558058</td>\n",
       "      <td>0.052741</td>\n",
       "      <td>0.067677</td>\n",
       "      <td>0.081351</td>\n",
       "    </tr>\n",
       "    <tr>\n",
       "      <th>2019-12-13</th>\n",
       "      <td>0.249798</td>\n",
       "      <td>0.545203</td>\n",
       "      <td>0.045370</td>\n",
       "      <td>0.069586</td>\n",
       "      <td>0.090044</td>\n",
       "    </tr>\n",
       "    <tr>\n",
       "      <th>...</th>\n",
       "      <td>...</td>\n",
       "      <td>...</td>\n",
       "      <td>...</td>\n",
       "      <td>...</td>\n",
       "      <td>...</td>\n",
       "    </tr>\n",
       "    <tr>\n",
       "      <th>2020-08-28</th>\n",
       "      <td>0.243006</td>\n",
       "      <td>0.570652</td>\n",
       "      <td>0.044345</td>\n",
       "      <td>0.057297</td>\n",
       "      <td>0.084700</td>\n",
       "    </tr>\n",
       "    <tr>\n",
       "      <th>2020-08-31</th>\n",
       "      <td>0.266655</td>\n",
       "      <td>0.535657</td>\n",
       "      <td>0.040804</td>\n",
       "      <td>0.054294</td>\n",
       "      <td>0.102590</td>\n",
       "    </tr>\n",
       "    <tr>\n",
       "      <th>2020-09-01</th>\n",
       "      <td>0.210061</td>\n",
       "      <td>0.635070</td>\n",
       "      <td>0.042023</td>\n",
       "      <td>0.047166</td>\n",
       "      <td>0.065680</td>\n",
       "    </tr>\n",
       "    <tr>\n",
       "      <th>2020-09-02</th>\n",
       "      <td>0.215683</td>\n",
       "      <td>0.626689</td>\n",
       "      <td>0.036406</td>\n",
       "      <td>0.035316</td>\n",
       "      <td>0.085907</td>\n",
       "    </tr>\n",
       "    <tr>\n",
       "      <th>2020-09-03</th>\n",
       "      <td>0.213769</td>\n",
       "      <td>0.618667</td>\n",
       "      <td>0.047099</td>\n",
       "      <td>0.047895</td>\n",
       "      <td>0.072570</td>\n",
       "    </tr>\n",
       "  </tbody>\n",
       "</table>\n",
       "<p>194 rows × 5 columns</p>\n",
       "</div>"
      ],
      "text/plain": [
       "                AAPL      AMZN        FB      GOOG      NFLX\n",
       "2019-12-09  0.209574  0.612394  0.044057  0.066511  0.067463\n",
       "2019-12-10  0.239664  0.552265  0.049426  0.075303  0.083343\n",
       "2019-12-11  0.233795  0.583635  0.042125  0.067389  0.073055\n",
       "2019-12-12  0.240172  0.558058  0.052741  0.067677  0.081351\n",
       "2019-12-13  0.249798  0.545203  0.045370  0.069586  0.090044\n",
       "...              ...       ...       ...       ...       ...\n",
       "2020-08-28  0.243006  0.570652  0.044345  0.057297  0.084700\n",
       "2020-08-31  0.266655  0.535657  0.040804  0.054294  0.102590\n",
       "2020-09-01  0.210061  0.635070  0.042023  0.047166  0.065680\n",
       "2020-09-02  0.215683  0.626689  0.036406  0.035316  0.085907\n",
       "2020-09-03  0.213769  0.618667  0.047099  0.047895  0.072570\n",
       "\n",
       "[194 rows x 5 columns]"
      ]
     },
     "execution_count": 27,
     "metadata": {},
     "output_type": "execute_result"
    }
   ],
   "source": [
    "weight_table = generate_weights_table(network, dataloader_test)\n",
    "weight_table"
   ]
  },
  {
   "cell_type": "markdown",
   "metadata": {},
   "source": [
    "We then call the :code:`plot_weight_heatmap` to see a heatmap of weights.\n",
    "\n"
   ]
  },
  {
   "cell_type": "code",
   "execution_count": 28,
   "metadata": {},
   "outputs": [
    {
     "data": {
      "text/plain": [
       "<matplotlib.axes._subplots.AxesSubplot at 0x7f590c6499d0>"
      ]
     },
     "execution_count": 28,
     "metadata": {},
     "output_type": "execute_result"
    },
    {
     "data": {
      "image/png": "[encoded data removed]",
      "text/plain": [
       "<Figure size 432x288 with 2 Axes>"
      ]
     },
     "metadata": {
      "needs_background": "light"
     },
     "output_type": "display_data"
    }
   ],
   "source": [
    "plot_weight_heatmap(weight_table,\n",
    "                    add_sum_column=True,\n",
    "                    time_format=None,\n",
    "                    time_skips=25)"
   ]
  },
  {
   "cell_type": "markdown",
   "metadata": {},
   "source": [
    "The rows represent different timesteps in our test set. The columns are all the assets in our\n",
    "universe. The values represent the weight in the portfolio. Additionally, we add a sum column\n",
    "to show that we are really generating valid allocations.\n",
    "\n"
   ]
  },
  {
   "cell_type": "code",
   "execution_count": 29,
   "metadata": {},
   "outputs": [
    {
     "name": "stdout",
     "output_type": "stream",
     "text": [
      "Ritorno annuo atteso: 40.0%\n",
      "Volatilità annua: 27.0%\n",
      "Varianza annua: 7.000000000000001%\n"
     ]
    }
   ],
   "source": [
    "assets = weight_table.tail(1).columns.to_list()\n",
    "del assets[-1]\n",
    "weights = weight_table.tail(1).values\n",
    "weights = np.delete(weights, -1)\n",
    "stockStartDate = '2015-01-01'\n",
    "stockEndDate = '2020-12-31'\n",
    "df = pd.DataFrame()\n",
    "for stock in assets:\n",
    "    df[stock] = web.DataReader(stock, data_source='yahoo', start = stockStartDate, end = stockEndDate)['Adj Close']\n",
    "returns = expected_returns.returns_from_prices(df).dropna()\n",
    "portfolioSimpleAnnualReturn = np.sum(returns.mean() * weights) * 252\n",
    "cov_matrix_annual = returns.cov()*252\n",
    "port_variance = np.dot(weights.T, np.dot(cov_matrix_annual, weights))\n",
    "port_volatility = np.sqrt(port_variance)\n",
    "percent_var = str(round(port_variance, 2)*100) + '%'\n",
    "percent_vols = str(round(port_volatility, 2)*100) + '%'\n",
    "percent_ret = str(round(portfolioSimpleAnnualReturn, 2)*100) + '%'\n",
    "\n",
    "print('Ritorno annuo atteso: '+ percent_ret)\n",
    "print('Volatilità annua: ' + percent_vols)\n",
    "print('Varianza annua: ' + percent_var)"
   ]
  },
  {
   "cell_type": "code",
   "execution_count": null,
   "metadata": {},
   "outputs": [],
   "source": []
  }
 ],
 "metadata": {
  "kernelspec": {
   "display_name": "Python 3",
   "language": "python",
   "name": "python3"
  },
  "language_info": {
   "codemirror_mode": {
    "name": "ipython",
    "version": 3
   },
   "file_extension": ".py",
   "mimetype": "text/x-python",
   "name": "python",
   "nbconvert_exporter": "python",
   "pygments_lexer": "ipython3",
   "version": "3.8.5"
  }
 },
 "nbformat": 4,
 "nbformat_minor": 1
}
