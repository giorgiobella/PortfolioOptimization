{
 "cells": [
  {
   "cell_type": "markdown",
   "metadata": {},
   "source": [
    "# TechLab - Portfolio Optimization Pt.3"
   ]
  },
  {
   "cell_type": "markdown",
   "metadata": {},
   "source": [
    "Nel terzo laboratorio applicheremo un'ottimizzazione di portafoglio attraverso l'uso di una rete neurale seguendo quattro fasi:\n",
    "1. Download e preparazione dei dati\n",
    "2. Definition della rete neurale\n",
    "3. Addestramento\n",
    "4. Valutazione e visualizzazione dei risultati"
   ]
  },
  {
   "cell_type": "code",
   "execution_count": 1,
   "metadata": {},
   "outputs": [],
   "source": [
    "%matplotlib inline\n",
    "from deepdow.benchmarks import Benchmark, OneOverN, Random\n",
    "from deepdow.callbacks import EarlyStoppingCallback\n",
    "from deepdow.data import InRAMDataset, RigidDataLoader, prepare_standard_scaler, Scale\n",
    "from deepdow.data.synthetic import sin_single\n",
    "from deepdow.experiments import Run\n",
    "from deepdow.layers import SoftmaxAllocator\n",
    "from deepdow.losses import MeanReturns, SharpeRatio, MaximumDrawdown\n",
    "from deepdow.visualize import generate_metrics_table, generate_weights_table, plot_metrics, plot_weight_heatmap\n",
    "from deepdow.utils import raw_to_Xy\n",
    "import matplotlib.pyplot as plt\n",
    "import numpy as np\n",
    "import torch\n",
    "import datetime\n",
    "import pandas as pd\n",
    "import pandas_datareader.data as web"
   ]
  },
  {
   "cell_type": "markdown",
   "metadata": {},
   "source": [
    "Al fine di rendere i risultati riproducibili fissiamo il seed per :code:`numpy` e :code:`torch`."
   ]
  },
  {
   "cell_type": "code",
   "execution_count": 2,
   "metadata": {},
   "outputs": [],
   "source": [
    "torch.manual_seed(4)\n",
    "np.random.seed(5)"
   ]
  },
  {
   "cell_type": "markdown",
   "metadata": {},
   "source": [
    "## Caricamento del dataset\n"
   ]
  },
  {
   "cell_type": "code",
   "execution_count": 3,
   "metadata": {},
   "outputs": [],
   "source": [
    "start = datetime.datetime(2015, 1, 1) \n",
    "end = datetime.datetime(2020, 12, 31)\n",
    "\n",
    "tickers = ['FB', 'AMZN', 'AAPL', 'NFLX', 'GOOG']\n",
    "raw_df = web.DataReader(tickers, 'yahoo', start=start, end=end)[['Adj Close']]"
   ]
  },
  {
   "cell_type": "code",
   "execution_count": 4,
   "metadata": {},
   "outputs": [],
   "source": [
    "raw_df.columns = pd.MultiIndex.from_product([['FB', 'AMZN', 'AAPL', 'NFLX', 'GOOG'], ['Adj Close']], names=['Ticker', 'Attribute'])"
   ]
  },
  {
   "cell_type": "code",
   "execution_count": 5,
   "metadata": {},
   "outputs": [],
   "source": [
    "assert isinstance(raw_df, pd.DataFrame)\n",
    "assert isinstance(raw_df.index, pd.DatetimeIndex)\n",
    "assert isinstance(raw_df.columns, pd.MultiIndex)"
   ]
  },
  {
   "cell_type": "code",
   "execution_count": 6,
   "metadata": {},
   "outputs": [],
   "source": [
    "n_timesteps = len(raw_df)  \n",
    "n_channels = len(raw_df.columns.levels[1])  \n",
    "n_assets = len(raw_df.columns.levels[0])"
   ]
  },
  {
   "cell_type": "code",
   "execution_count": 7,
   "metadata": {},
   "outputs": [
    {
     "name": "stdout",
     "output_type": "stream",
     "text": [
      "Timesteps = 1511\n",
      "Channels = 1\n",
      "Assets = 5\n"
     ]
    }
   ],
   "source": [
    "print('Timesteps = '+ str(n_timesteps))\n",
    "print('Channels = '+ str(n_channels))\n",
    "print('Assets = '+ str(n_assets))"
   ]
  },
  {
   "cell_type": "code",
   "execution_count": 8,
   "metadata": {},
   "outputs": [],
   "source": [
    "lookback, gap, horizon = 50, 0, 25"
   ]
  },
  {
   "cell_type": "code",
   "execution_count": 9,
   "metadata": {},
   "outputs": [],
   "source": [
    "X, timestamps, y, asset_names, indicators = raw_to_Xy(raw_df,\n",
    "                                                      lookback=lookback,\n",
    "                                                      gap=gap,\n",
    "                                                      freq=\"B\",\n",
    "                                                      horizon=horizon)"
   ]
  },
  {
   "cell_type": "code",
   "execution_count": 10,
   "metadata": {},
   "outputs": [
    {
     "data": {
      "text/plain": [
       "1436"
      ]
     },
     "execution_count": 10,
     "metadata": {},
     "output_type": "execute_result"
    }
   ],
   "source": [
    "n_samples = n_timesteps - lookback - horizon - gap \n",
    "n_samples"
   ]
  },
  {
   "cell_type": "code",
   "execution_count": 11,
   "metadata": {},
   "outputs": [
    {
     "name": "stdout",
     "output_type": "stream",
     "text": [
      "Train range: 0:1147\n",
      "Test range: 1223:1435\n"
     ]
    }
   ],
   "source": [
    "split_ix = int(n_samples * 0.8)\n",
    "indices_train = list(range(split_ix))\n",
    "indices_test = list(range(split_ix + lookback + horizon, n_samples))\n",
    "\n",
    "print('Train range: {}:{}\\nTest range: {}:{}'.format(indices_train[0], indices_train[-1],\n",
    "                                                     indices_test[0], indices_test[-1]))"
   ]
  },
  {
   "cell_type": "markdown",
   "metadata": {},
   "source": [
    "We can now construct the :code:`InRAMDataset`. By providing the optional :code:`transform` we\n",
    "make sure that when the samples are streamed they are always scaled based on our computed\n",
    "(training) statistics. See `inramdataset` for more details.\n",
    "\n"
   ]
  },
  {
   "cell_type": "code",
   "execution_count": 12,
   "metadata": {},
   "outputs": [],
   "source": [
    "dataset = InRAMDataset(X, y, timestamps=timestamps, asset_names=asset_names)\n",
    "\n",
    "X_sample, y_sample, timestamp_sample, asset_names = dataset[0]"
   ]
  },
  {
   "cell_type": "markdown",
   "metadata": {},
   "source": [
    "Using the :code:`dataset` we can now construct two dataloaders—one for training and the other one\n",
    "for testing. For more details see `dataloaders`.\n",
    "\n"
   ]
  },
  {
   "cell_type": "code",
   "execution_count": 13,
   "metadata": {},
   "outputs": [],
   "source": [
    "dataloader_train = RigidDataLoader(dataset,\n",
    "                                   indices=indices_train,\n",
    "                                   batch_size=32)\n",
    "\n",
    "dataloader_test = RigidDataLoader(dataset,\n",
    "                                  indices=indices_test,\n",
    "                                  batch_size=32)"
   ]
  },
  {
   "cell_type": "markdown",
   "metadata": {},
   "source": [
    "## Network definition\n",
    "Let us now write a custom network. See `writing_custom_networks`.\n",
    "\n"
   ]
  },
  {
   "cell_type": "code",
   "execution_count": 14,
   "metadata": {},
   "outputs": [],
   "source": [
    "class GreatNet(torch.nn.Module, Benchmark):\n",
    "    def __init__(self, n_assets, lookback, p=0.5):\n",
    "        super().__init__()\n",
    "\n",
    "        n_features = n_assets * lookback\n",
    "\n",
    "        self.dropout_layer = torch.nn.Dropout(p=p)\n",
    "        self.dense_layer = torch.nn.Linear(n_features, n_assets, bias=True)\n",
    "        self.allocate_layer = SoftmaxAllocator(temperature=None)\n",
    "        self.temperature = torch.nn.Parameter(torch.ones(1), requires_grad=True)\n",
    "\n",
    "    def forward(self, x):\n",
    "        \"\"\"Perform forward pass.\n",
    "\n",
    "        Parameters\n",
    "        ----------\n",
    "        x : torch.Tensor\n",
    "            Of shape (n_samples, 1, lookback, n_assets).\n",
    "\n",
    "        Returns\n",
    "        -------\n",
    "        weights : torch.Torch\n",
    "            Tensor of shape (n_samples, n_assets).\n",
    "\n",
    "        \"\"\"\n",
    "        n_samples, _, _, _ = x.shape\n",
    "        x = x.view(n_samples, -1)  # flatten features\n",
    "        x = self.dropout_layer(x)\n",
    "        x = self.dense_layer(x)\n",
    "\n",
    "        temperatures = torch.ones(n_samples).to(device=x.device, dtype=x.dtype) * self.temperature\n",
    "        weights = self.allocate_layer(x, temperatures)\n",
    "\n",
    "        return weights"
   ]
  },
  {
   "cell_type": "markdown",
   "metadata": {},
   "source": [
    "So what is this network doing? First of all, we make an assumption that assets and lookback will\n",
    "never change (the same shape and order at train and at inference time). This assumption\n",
    "is justified since we are using :code:`RigidDataLoader`.\n",
    "We can learn :code:`n_assets` linear models that have :code:`n_assets * lookback` features. In\n",
    "other words we have a dense layer that takes the flattened feature tensor :code:`x` and returns\n",
    "a vector of length :code:`n_assets`. Since elements of this vector can range from $-\\infty$\n",
    "to $\\infty$ we turn it into an asset allocation via :code:`SoftmaxAllocator`.\n",
    "Additionally, we learn the :code:`temperature` from the data. This will enable us to learn the\n",
    "optimal trade-off between an equally weighted allocation (uniform distribution) and\n",
    "single asset portfolios.\n",
    "\n"
   ]
  },
  {
   "cell_type": "code",
   "execution_count": 15,
   "metadata": {},
   "outputs": [
    {
     "name": "stdout",
     "output_type": "stream",
     "text": [
      "GreatNet(\n",
      "  (dropout_layer): Dropout(p=0.5, inplace=False)\n",
      "  (dense_layer): Linear(in_features=250, out_features=5, bias=True)\n",
      "  (allocate_layer): SoftmaxAllocator(\n",
      "    (layer): Softmax(dim=1)\n",
      "  )\n",
      ")\n"
     ]
    }
   ],
   "source": [
    "network = GreatNet(n_assets, lookback)\n",
    "print(network)"
   ]
  },
  {
   "cell_type": "markdown",
   "metadata": {},
   "source": [
    "In :code:`torch` networks are either in the **train** or **eval** mode. Since we are using\n",
    "dropout it is essential that we set the mode correctly based on what we are trying to do.\n",
    "\n"
   ]
  },
  {
   "cell_type": "code",
   "execution_count": 16,
   "metadata": {},
   "outputs": [],
   "source": [
    "network = network.train()  # it is the default, however, just to make the distinction clear"
   ]
  },
  {
   "cell_type": "markdown",
   "metadata": {},
   "source": [
    "## Training\n",
    "It is now time to define our loss. Let's say we want to achieve multiple objectives at the same\n",
    "time. We want to minimize the drawdowns, maximize the mean returns and also maximize the Sharpe\n",
    "ratio. All of these losses are implemented in :code:`deepdow.losses`. To avoid confusion, they\n",
    "are always implemented in a way that **the lower the value of the loss the better**. To combine\n",
    "multiple objectives we can simply sum all of the individual losses. Similarly, if we want to\n",
    "assign more importance to one of them we can achieve this by multiplying by a constant. To learn\n",
    "more see `losses`.\n",
    "\n"
   ]
  },
  {
   "cell_type": "code",
   "execution_count": 17,
   "metadata": {},
   "outputs": [],
   "source": [
    "loss = MaximumDrawdown() + 2 * MeanReturns() + SharpeRatio()"
   ]
  },
  {
   "cell_type": "markdown",
   "metadata": {},
   "source": [
    "Note that by default all the losses assume that we input logarithmic returns\n",
    "(:code:`input_type='log'`) and that they are in the 0th channel (:code:`returns_channel=0`).\n",
    "\n"
   ]
  },
  {
   "cell_type": "markdown",
   "metadata": {},
   "source": [
    "We now have all the ingredients ready for training of the neural network. :code:`deepdow` implements\n",
    "a simple wrapper :code:`Run` that implements the training loop and a minimal callback\n",
    "framework. For further information see `experiments`.\n",
    "\n"
   ]
  },
  {
   "cell_type": "code",
   "execution_count": 18,
   "metadata": {},
   "outputs": [],
   "source": [
    "run = Run(network,\n",
    "          loss,\n",
    "          dataloader_train,\n",
    "          val_dataloaders={'test': dataloader_test},\n",
    "          optimizer=torch.optim.Adam(network.parameters(), amsgrad=True),\n",
    "          callbacks=[EarlyStoppingCallback(metric_name='loss',\n",
    "                                           dataloader_name='test',\n",
    "                                           patience=15)])"
   ]
  },
  {
   "cell_type": "markdown",
   "metadata": {},
   "source": [
    "To run the training loop, we use the :code:`launch` where we specify the number of epochs.\n",
    "\n"
   ]
  },
  {
   "cell_type": "code",
   "execution_count": 19,
   "metadata": {},
   "outputs": [
    {
     "name": "stderr",
     "output_type": "stream",
     "text": [
      "Epoch 0:   0%|          | 0/36 [00:00<?, ?it/s]/usr/local/lib/python3.8/dist-packages/torch/autograd/__init__.py:130: UserWarning: CUDA initialization: Found no NVIDIA driver on your system. Please check that you have an NVIDIA GPU and installed a driver from http://www.nvidia.com/Download/index.aspx (Triggered internally at  /pytorch/c10/cuda/CUDAFunctions.cpp:100.)\n",
      "  Variable._execution_engine.run_backward(\n",
      "Epoch 0: 100%|██████████| 36/36 [00:00<00:00, 70.59it/s, loss=-0.06664, test_loss=-0.08911]\n",
      "Epoch 1: 100%|██████████| 36/36 [00:00<00:00, 95.13it/s, loss=-0.06744, test_loss=-0.09024] \n",
      "Epoch 2: 100%|██████████| 36/36 [00:00<00:00, 91.48it/s, loss=-0.06785, test_loss=-0.09142] \n",
      "Epoch 3: 100%|██████████| 36/36 [00:00<00:00, 65.32it/s, loss=-0.06861, test_loss=-0.09264]\n",
      "Epoch 4: 100%|██████████| 36/36 [00:00<00:00, 82.50it/s, loss=-0.06936, test_loss=-0.09392]\n",
      "Epoch 5: 100%|██████████| 36/36 [00:00<00:00, 95.23it/s, loss=-0.07005, test_loss=-0.09542] \n",
      "Epoch 6: 100%|██████████| 36/36 [00:00<00:00, 92.27it/s, loss=-0.07094, test_loss=-0.09694]\n",
      "Epoch 7: 100%|██████████| 36/36 [00:00<00:00, 63.95it/s, loss=-0.07154, test_loss=-0.09865]\n",
      "Epoch 8: 100%|██████████| 36/36 [00:00<00:00, 95.00it/s, loss=-0.07302, test_loss=-0.10041] \n",
      "Epoch 9: 100%|██████████| 36/36 [00:00<00:00, 83.57it/s, loss=-0.07362, test_loss=-0.10235]\n",
      "Epoch 10: 100%|██████████| 36/36 [00:00<00:00, 67.74it/s, loss=-0.07464, test_loss=-0.10444]\n",
      "Epoch 11: 100%|██████████| 36/36 [00:00<00:00, 46.96it/s, loss=-0.07575, test_loss=-0.10622]\n",
      "Epoch 12: 100%|██████████| 36/36 [00:00<00:00, 87.99it/s, loss=-0.07657, test_loss=-0.10784]\n",
      "Epoch 13: 100%|██████████| 36/36 [00:00<00:00, 76.28it/s, loss=-0.07739, test_loss=-0.10888]\n",
      "Epoch 14: 100%|██████████| 36/36 [00:00<00:00, 90.36it/s, loss=-0.07785, test_loss=-0.10989]\n",
      "Epoch 15: 100%|██████████| 36/36 [00:00<00:00, 66.82it/s, loss=-0.07865, test_loss=-0.11068]\n",
      "Epoch 16: 100%|██████████| 36/36 [00:00<00:00, 74.93it/s, loss=-0.07906, test_loss=-0.11128]\n",
      "Epoch 17: 100%|██████████| 36/36 [00:00<00:00, 86.53it/s, loss=-0.07856, test_loss=-0.11173]\n",
      "Epoch 18: 100%|██████████| 36/36 [00:00<00:00, 93.93it/s, loss=-0.07935, test_loss=-0.11216] \n",
      "Epoch 19: 100%|██████████| 36/36 [00:00<00:00, 94.24it/s, loss=-0.07916, test_loss=-0.11238] \n",
      "Epoch 20: 100%|██████████| 36/36 [00:00<00:00, 96.25it/s, loss=-0.07939, test_loss=-0.11247] \n",
      "Epoch 21: 100%|██████████| 36/36 [00:00<00:00, 76.24it/s, loss=-0.08031, test_loss=-0.11317]\n",
      "Epoch 22: 100%|██████████| 36/36 [00:00<00:00, 87.06it/s, loss=-0.08035, test_loss=-0.11342]\n",
      "Epoch 23: 100%|██████████| 36/36 [00:00<00:00, 70.52it/s, loss=-0.08061, test_loss=-0.11389]\n",
      "Epoch 24: 100%|██████████| 36/36 [00:00<00:00, 73.02it/s, loss=-0.08112, test_loss=-0.11400]\n",
      "Epoch 25: 100%|██████████| 36/36 [00:00<00:00, 88.73it/s, loss=-0.08162, test_loss=-0.11432] \n",
      "Epoch 26: 100%|██████████| 36/36 [00:00<00:00, 88.61it/s, loss=-0.08199, test_loss=-0.11460]\n",
      "Epoch 27: 100%|██████████| 36/36 [00:00<00:00, 81.30it/s, loss=-0.08212, test_loss=-0.11472]\n",
      "Epoch 28: 100%|██████████| 36/36 [00:00<00:00, 67.34it/s, loss=-0.08261, test_loss=-0.11489]\n",
      "Epoch 29: 100%|██████████| 36/36 [00:00<00:00, 84.80it/s, loss=-0.08207, test_loss=-0.11503]\n"
     ]
    }
   ],
   "source": [
    "history = run.launch(30)"
   ]
  },
  {
   "cell_type": "markdown",
   "metadata": {},
   "source": [
    "## Evaluation and visualization\n",
    "The :code:`history` object returned by :code:`launch` contains a lot of useful information related\n",
    "to training. Specifically, the property :code:`metrics` returns a comprehensive :code:`pd.DataFrame`.\n",
    "To display the average test loss per each epoch we can run following.\n",
    "\n"
   ]
  },
  {
   "cell_type": "code",
   "execution_count": 20,
   "metadata": {},
   "outputs": [
    {
     "name": "stdout",
     "output_type": "stream",
     "text": [
      "dataloader  metric  model    epoch\n",
      "test        loss    network  0        213\n",
      "                             1        213\n",
      "                             2        213\n",
      "                             3        213\n",
      "                             4        213\n",
      "                             5        213\n",
      "                             6        213\n",
      "                             7        213\n",
      "                             8        213\n",
      "                             9        213\n",
      "                             10       213\n",
      "                             11       213\n",
      "                             12       213\n",
      "                             13       213\n",
      "                             14       213\n",
      "                             15       213\n",
      "                             16       213\n",
      "                             17       213\n",
      "                             18       213\n",
      "                             19       213\n",
      "                             20       213\n",
      "                             21       213\n",
      "                             22       213\n",
      "                             23       213\n",
      "                             24       213\n",
      "                             25       213\n",
      "                             26       213\n",
      "                             27       213\n",
      "                             28       213\n",
      "                             29       213\n",
      "Name: value, dtype: int64\n",
      "dataloader  metric  model    epoch\n",
      "test        loss    network  0       -0.089114\n",
      "                             1       -0.090245\n",
      "                             2       -0.091422\n",
      "                             3       -0.092639\n",
      "                             4       -0.093924\n",
      "                             5       -0.095416\n",
      "                             6       -0.096944\n",
      "                             7       -0.098652\n",
      "                             8       -0.100414\n",
      "                             9       -0.102350\n",
      "                             10      -0.104439\n",
      "                             11      -0.106215\n",
      "                             12      -0.107841\n",
      "                             13      -0.108883\n",
      "                             14      -0.109894\n",
      "                             15      -0.110683\n",
      "                             16      -0.111283\n",
      "                             17      -0.111728\n",
      "                             18      -0.112159\n",
      "                             19      -0.112375\n",
      "                             20      -0.112466\n",
      "                             21      -0.113170\n",
      "                             22      -0.113420\n",
      "                             23      -0.113887\n",
      "                             24      -0.114002\n",
      "                             25      -0.114325\n",
      "                             26      -0.114604\n",
      "                             27      -0.114717\n",
      "                             28      -0.114888\n",
      "                             29      -0.115028\n",
      "Name: value, dtype: float64\n"
     ]
    }
   ],
   "source": [
    "per_epoch_results = history.metrics.groupby(['dataloader', 'metric', 'model', 'epoch'])['value']\n",
    "\n",
    "print(per_epoch_results.count())  # double check number of samples each epoch\n",
    "print(per_epoch_results.mean())  # mean loss per epoch"
   ]
  },
  {
   "cell_type": "code",
   "execution_count": 21,
   "metadata": {},
   "outputs": [
    {
     "data": {
      "text/plain": [
       "<matplotlib.axes._subplots.AxesSubplot at 0x7f63f457e190>"
      ]
     },
     "execution_count": 21,
     "metadata": {},
     "output_type": "execute_result"
    },
    {
     "data": {
      "image/png": "[encoded data removed]",
      "text/plain": [
       "<Figure size 432x288 with 1 Axes>"
      ]
     },
     "metadata": {
      "needs_background": "light"
     },
     "output_type": "display_data"
    }
   ],
   "source": [
    "per_epoch_results.mean()['test']['loss']['network'].plot()"
   ]
  },
  {
   "cell_type": "markdown",
   "metadata": {},
   "source": [
    "To get more insight into what our network predicts we can use the :code:`deepdow.visualize` module.\n",
    "Before we even start further evaluations, let us make sure the network is in eval model.\n",
    "\n"
   ]
  },
  {
   "cell_type": "code",
   "execution_count": 22,
   "metadata": {},
   "outputs": [],
   "source": [
    "network = network.eval()"
   ]
  },
  {
   "cell_type": "markdown",
   "metadata": {},
   "source": [
    "To put the performance of our network in context, we also utilize benchmarks. :code:`deepdow`\n",
    "offers multiple benchmarks already. Additionally, one can provide custom simple benchmarks or\n",
    "some pre-trained networks.\n",
    "\n"
   ]
  },
  {
   "cell_type": "code",
   "execution_count": 23,
   "metadata": {},
   "outputs": [],
   "source": [
    "benchmarks = {\n",
    "    '1overN': OneOverN(),  # each asset has weight 1 / n_assets\n",
    "    'random': Random(),  # random allocation that is however close 1OverN\n",
    "    'network': network\n",
    "}"
   ]
  },
  {
   "cell_type": "markdown",
   "metadata": {},
   "source": [
    "During training, the only mandatory metric/loss was the loss criterion that we tried to minimize.\n",
    "Naturally, one might be interested in many other metrics to evaluate the performance. See below\n",
    "an example.\n",
    "\n"
   ]
  },
  {
   "cell_type": "code",
   "execution_count": 24,
   "metadata": {},
   "outputs": [],
   "source": [
    "metrics = {\n",
    "    'MaxDD': MaximumDrawdown(),\n",
    "    'Sharpe': SharpeRatio(),\n",
    "    'MeanReturn': MeanReturns()\n",
    "}"
   ]
  },
  {
   "cell_type": "markdown",
   "metadata": {},
   "source": [
    "Let us now use the above created objects. We first generate a table with all metrics over all\n",
    "samples and for all benchmarks. This is done via :code:`generate_metrics_table`.\n",
    "\n"
   ]
  },
  {
   "cell_type": "code",
   "execution_count": 25,
   "metadata": {},
   "outputs": [],
   "source": [
    "metrics_table = generate_metrics_table(benchmarks,\n",
    "                                       dataloader_test,\n",
    "                                       metrics)"
   ]
  },
  {
   "cell_type": "markdown",
   "metadata": {},
   "source": [
    "And then we plot it with :code:`plot_metrics`.\n",
    "\n"
   ]
  },
  {
   "cell_type": "code",
   "execution_count": 26,
   "metadata": {},
   "outputs": [
    {
     "data": {
      "text/plain": [
       "array([<matplotlib.axes._subplots.AxesSubplot object at 0x7f63f6d289a0>,\n",
       "       <matplotlib.axes._subplots.AxesSubplot object at 0x7f63f406d910>,\n",
       "       <matplotlib.axes._subplots.AxesSubplot object at 0x7f63f40a9460>],\n",
       "      dtype=object)"
      ]
     },
     "execution_count": 26,
     "metadata": {},
     "output_type": "execute_result"
    },
    {
     "data": {
      "image/png": "[encoded data removed]",
      "text/plain": [
       "<Figure size 432x288 with 3 Axes>"
      ]
     },
     "metadata": {
      "needs_background": "light"
     },
     "output_type": "display_data"
    }
   ],
   "source": [
    "plot_metrics(metrics_table)"
   ]
  },
  {
   "cell_type": "markdown",
   "metadata": {},
   "source": [
    "Each plot represents a different metric. The x-axis represents the timestamps in our\n",
    "test set. The different colors are capturing different models. How is the value of a metric\n",
    "computed? We assume that the investor predicts the portfolio at time x and buys it. He then\n",
    "holds it for :code:`horizon` timesteps. The actual metric is then computed over this time horizon.\n",
    "\n"
   ]
  },
  {
   "cell_type": "markdown",
   "metadata": {},
   "source": [
    "Finally, we are also interested in how the allocation/prediction looks like at each time step.\n",
    "We can use the :code:`generate_weights_table` function to create a :code:`pd.DataFrame`.\n",
    "\n"
   ]
  },
  {
   "cell_type": "code",
   "execution_count": 27,
   "metadata": {},
   "outputs": [],
   "source": [
    "weight_table = generate_weights_table(network, dataloader_test)"
   ]
  },
  {
   "cell_type": "markdown",
   "metadata": {},
   "source": [
    "We then call the :code:`plot_weight_heatmap` to see a heatmap of weights.\n",
    "\n"
   ]
  },
  {
   "cell_type": "code",
   "execution_count": 28,
   "metadata": {},
   "outputs": [
    {
     "data": {
      "text/plain": [
       "<matplotlib.axes._subplots.AxesSubplot at 0x7f63ec6b5a00>"
      ]
     },
     "execution_count": 28,
     "metadata": {},
     "output_type": "execute_result"
    },
    {
     "data": {
      "image/png": "[encoded data removed]",
      "text/plain": [
       "<Figure size 432x288 with 2 Axes>"
      ]
     },
     "metadata": {
      "needs_background": "light"
     },
     "output_type": "display_data"
    }
   ],
   "source": [
    "plot_weight_heatmap(weight_table,\n",
    "                    add_sum_column=True,\n",
    "                    time_format=None,\n",
    "                    time_skips=25)"
   ]
  },
  {
   "cell_type": "markdown",
   "metadata": {},
   "source": [
    "The rows represent different timesteps in our test set. The columns are all the assets in our\n",
    "universe. The values represent the weight in the portfolio. Additionally, we add a sum column\n",
    "to show that we are really generating valid allocations.\n",
    "\n"
   ]
  }
 ],
 "metadata": {
  "kernelspec": {
   "display_name": "Python 3",
   "language": "python",
   "name": "python3"
  },
  "language_info": {
   "codemirror_mode": {
    "name": "ipython",
    "version": 3
   },
   "file_extension": ".py",
   "mimetype": "text/x-python",
   "name": "python",
   "nbconvert_exporter": "python",
   "pygments_lexer": "ipython3",
   "version": "3.8.5"
  }
 },
 "nbformat": 4,
 "nbformat_minor": 1
}
