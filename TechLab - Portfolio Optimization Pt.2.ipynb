{
 "cells": [
  {
   "cell_type": "markdown",
   "metadata": {},
   "source": [
    "# TechLab - Portfolio Optimization Pt.2"
   ]
  },
  {
   "cell_type": "markdown",
   "metadata": {},
   "source": [
    "Nel secondo laboratorio sperimenteremo come determinare il rendimento atteso e la varianza di un portafoglio di titoli con pesi definiti a priori per poi ottimizzarli per massimizzare lo Sharpe Ratio dello stesso."
   ]
  },
  {
   "cell_type": "code",
   "execution_count": 1,
   "metadata": {},
   "outputs": [],
   "source": [
    "from pandas_datareader import data as web\n",
    "import pandas as pd\n",
    "import numpy as np\n",
    "from datetime import datetime\n",
    "import matplotlib.pyplot as plt\n",
    "plt.style.use('fivethirtyeight')\n",
    "\n",
    "from pypfopt import CLA, plotting\n",
    "from pypfopt.efficient_frontier import EfficientFrontier\n",
    "from pypfopt import risk_models\n",
    "from pypfopt import expected_returns\n",
    "from pypfopt.discrete_allocation import DiscreteAllocation, get_latest_prices\n",
    "from pypfopt import EfficientCVaR"
   ]
  },
  {
   "cell_type": "code",
   "execution_count": 2,
   "metadata": {},
   "outputs": [],
   "source": [
    "# Scelgo gli asset su cui effettuare l'ottimizzazione\n",
    "\n",
    "assets = ['FB', 'AMZN', 'AAPL', 'NFLX', 'GOOG']"
   ]
  },
  {
   "cell_type": "code",
   "execution_count": 3,
   "metadata": {},
   "outputs": [],
   "source": [
    "# Assegno quanta parte del capitale investire in ciascun asset\n",
    "\n",
    "weights = np.array([0.2, 0.2, 0.2, 0.2, 0.2])"
   ]
  },
  {
   "cell_type": "code",
   "execution_count": 4,
   "metadata": {},
   "outputs": [
    {
     "data": {
      "text/html": [
       "<div>\n",
       "<style scoped>\n",
       "    .dataframe tbody tr th:only-of-type {\n",
       "        vertical-align: middle;\n",
       "    }\n",
       "\n",
       "    .dataframe tbody tr th {\n",
       "        vertical-align: top;\n",
       "    }\n",
       "\n",
       "    .dataframe thead th {\n",
       "        text-align: right;\n",
       "    }\n",
       "</style>\n",
       "<table border=\"1\" class=\"dataframe\">\n",
       "  <thead>\n",
       "    <tr style=\"text-align: right;\">\n",
       "      <th></th>\n",
       "      <th>FB</th>\n",
       "      <th>AMZN</th>\n",
       "      <th>AAPL</th>\n",
       "      <th>NFLX</th>\n",
       "      <th>GOOG</th>\n",
       "    </tr>\n",
       "    <tr>\n",
       "      <th>Date</th>\n",
       "      <th></th>\n",
       "      <th></th>\n",
       "      <th></th>\n",
       "      <th></th>\n",
       "      <th></th>\n",
       "    </tr>\n",
       "  </thead>\n",
       "  <tbody>\n",
       "    <tr>\n",
       "      <th>2015-01-02</th>\n",
       "      <td>78.449997</td>\n",
       "      <td>308.519989</td>\n",
       "      <td>24.861401</td>\n",
       "      <td>49.848572</td>\n",
       "      <td>523.373108</td>\n",
       "    </tr>\n",
       "    <tr>\n",
       "      <th>2015-01-05</th>\n",
       "      <td>77.190002</td>\n",
       "      <td>302.190002</td>\n",
       "      <td>24.161013</td>\n",
       "      <td>47.311428</td>\n",
       "      <td>512.463013</td>\n",
       "    </tr>\n",
       "    <tr>\n",
       "      <th>2015-01-06</th>\n",
       "      <td>76.150002</td>\n",
       "      <td>295.290009</td>\n",
       "      <td>24.163294</td>\n",
       "      <td>46.501431</td>\n",
       "      <td>500.585632</td>\n",
       "    </tr>\n",
       "    <tr>\n",
       "      <th>2015-01-07</th>\n",
       "      <td>76.150002</td>\n",
       "      <td>298.420013</td>\n",
       "      <td>24.502111</td>\n",
       "      <td>46.742859</td>\n",
       "      <td>499.727997</td>\n",
       "    </tr>\n",
       "    <tr>\n",
       "      <th>2015-01-08</th>\n",
       "      <td>78.180000</td>\n",
       "      <td>300.459991</td>\n",
       "      <td>25.443539</td>\n",
       "      <td>47.779999</td>\n",
       "      <td>501.303680</td>\n",
       "    </tr>\n",
       "    <tr>\n",
       "      <th>...</th>\n",
       "      <td>...</td>\n",
       "      <td>...</td>\n",
       "      <td>...</td>\n",
       "      <td>...</td>\n",
       "      <td>...</td>\n",
       "    </tr>\n",
       "    <tr>\n",
       "      <th>2020-12-24</th>\n",
       "      <td>267.399994</td>\n",
       "      <td>3172.689941</td>\n",
       "      <td>131.773087</td>\n",
       "      <td>513.969971</td>\n",
       "      <td>1738.849976</td>\n",
       "    </tr>\n",
       "    <tr>\n",
       "      <th>2020-12-28</th>\n",
       "      <td>277.000000</td>\n",
       "      <td>3283.959961</td>\n",
       "      <td>136.486053</td>\n",
       "      <td>519.119995</td>\n",
       "      <td>1776.089966</td>\n",
       "    </tr>\n",
       "    <tr>\n",
       "      <th>2020-12-29</th>\n",
       "      <td>276.779999</td>\n",
       "      <td>3322.000000</td>\n",
       "      <td>134.668762</td>\n",
       "      <td>530.869995</td>\n",
       "      <td>1758.719971</td>\n",
       "    </tr>\n",
       "    <tr>\n",
       "      <th>2020-12-30</th>\n",
       "      <td>271.869995</td>\n",
       "      <td>3285.850098</td>\n",
       "      <td>133.520477</td>\n",
       "      <td>524.590027</td>\n",
       "      <td>1739.520020</td>\n",
       "    </tr>\n",
       "    <tr>\n",
       "      <th>2020-12-31</th>\n",
       "      <td>273.160004</td>\n",
       "      <td>3256.929932</td>\n",
       "      <td>132.492020</td>\n",
       "      <td>540.729980</td>\n",
       "      <td>1751.880005</td>\n",
       "    </tr>\n",
       "  </tbody>\n",
       "</table>\n",
       "<p>1511 rows × 5 columns</p>\n",
       "</div>"
      ],
      "text/plain": [
       "                    FB         AMZN        AAPL        NFLX         GOOG\n",
       "Date                                                                    \n",
       "2015-01-02   78.449997   308.519989   24.861401   49.848572   523.373108\n",
       "2015-01-05   77.190002   302.190002   24.161013   47.311428   512.463013\n",
       "2015-01-06   76.150002   295.290009   24.163294   46.501431   500.585632\n",
       "2015-01-07   76.150002   298.420013   24.502111   46.742859   499.727997\n",
       "2015-01-08   78.180000   300.459991   25.443539   47.779999   501.303680\n",
       "...                ...          ...         ...         ...          ...\n",
       "2020-12-24  267.399994  3172.689941  131.773087  513.969971  1738.849976\n",
       "2020-12-28  277.000000  3283.959961  136.486053  519.119995  1776.089966\n",
       "2020-12-29  276.779999  3322.000000  134.668762  530.869995  1758.719971\n",
       "2020-12-30  271.869995  3285.850098  133.520477  524.590027  1739.520020\n",
       "2020-12-31  273.160004  3256.929932  132.492020  540.729980  1751.880005\n",
       "\n",
       "[1511 rows x 5 columns]"
      ]
     },
     "execution_count": 4,
     "metadata": {},
     "output_type": "execute_result"
    }
   ],
   "source": [
    "# Scarico i prezzi di mercato degli asset\n",
    "\n",
    "stockStartDate = '2015-01-01'\n",
    "stockEndDate = '2020-12-31'\n",
    "# today = datetime.today().strftime('%Y-%m-%d')\n",
    "\n",
    "df = pd.DataFrame()\n",
    "for stock in assets:\n",
    "    df[stock] = web.DataReader(stock, data_source='yahoo', start = stockStartDate, end = stockEndDate)['Adj Close']\n",
    "\n",
    "df"
   ]
  },
  {
   "cell_type": "code",
   "execution_count": 5,
   "metadata": {},
   "outputs": [
    {
     "data": {
      "image/png": "[encoded data removed]",
      "text/plain": [
       "<Figure size 432x288 with 1 Axes>"
      ]
     },
     "metadata": {},
     "output_type": "display_data"
    }
   ],
   "source": [
    "# Visualizzo l'andamento dei prezzi degli asset in portafoglio\n",
    "\n",
    "title = 'Prezzo Asset in Portafoglio'\n",
    "my_stocks = df\n",
    "\n",
    "for c in my_stocks.columns.values:\n",
    "    plt.plot(my_stocks[c], label =c)\n",
    "\n",
    "plt.title(title)\n",
    "plt.xlabel('Data', fontsize = 18)\n",
    "plt.ylabel('Prezzo ($)', fontsize = 18)\n",
    "plt.legend(my_stocks.columns.values, loc = 'upper left')\n",
    "plt.show()"
   ]
  },
  {
   "cell_type": "code",
   "execution_count": 6,
   "metadata": {},
   "outputs": [
    {
     "data": {
      "text/html": [
       "<div>\n",
       "<style scoped>\n",
       "    .dataframe tbody tr th:only-of-type {\n",
       "        vertical-align: middle;\n",
       "    }\n",
       "\n",
       "    .dataframe tbody tr th {\n",
       "        vertical-align: top;\n",
       "    }\n",
       "\n",
       "    .dataframe thead th {\n",
       "        text-align: right;\n",
       "    }\n",
       "</style>\n",
       "<table border=\"1\" class=\"dataframe\">\n",
       "  <thead>\n",
       "    <tr style=\"text-align: right;\">\n",
       "      <th></th>\n",
       "      <th>FB</th>\n",
       "      <th>AMZN</th>\n",
       "      <th>AAPL</th>\n",
       "      <th>NFLX</th>\n",
       "      <th>GOOG</th>\n",
       "    </tr>\n",
       "    <tr>\n",
       "      <th>Date</th>\n",
       "      <th></th>\n",
       "      <th></th>\n",
       "      <th></th>\n",
       "      <th></th>\n",
       "      <th></th>\n",
       "    </tr>\n",
       "  </thead>\n",
       "  <tbody>\n",
       "    <tr>\n",
       "      <th>2015-01-05</th>\n",
       "      <td>-0.016061</td>\n",
       "      <td>-0.020517</td>\n",
       "      <td>-0.028172</td>\n",
       "      <td>-0.050897</td>\n",
       "      <td>-0.020846</td>\n",
       "    </tr>\n",
       "    <tr>\n",
       "      <th>2015-01-06</th>\n",
       "      <td>-0.013473</td>\n",
       "      <td>-0.022833</td>\n",
       "      <td>0.000094</td>\n",
       "      <td>-0.017121</td>\n",
       "      <td>-0.023177</td>\n",
       "    </tr>\n",
       "    <tr>\n",
       "      <th>2015-01-07</th>\n",
       "      <td>0.000000</td>\n",
       "      <td>0.010600</td>\n",
       "      <td>0.014022</td>\n",
       "      <td>0.005192</td>\n",
       "      <td>-0.001713</td>\n",
       "    </tr>\n",
       "    <tr>\n",
       "      <th>2015-01-08</th>\n",
       "      <td>0.026658</td>\n",
       "      <td>0.006836</td>\n",
       "      <td>0.038422</td>\n",
       "      <td>0.022188</td>\n",
       "      <td>0.003153</td>\n",
       "    </tr>\n",
       "    <tr>\n",
       "      <th>2015-01-09</th>\n",
       "      <td>-0.005628</td>\n",
       "      <td>-0.011749</td>\n",
       "      <td>0.001072</td>\n",
       "      <td>-0.015458</td>\n",
       "      <td>-0.012951</td>\n",
       "    </tr>\n",
       "    <tr>\n",
       "      <th>...</th>\n",
       "      <td>...</td>\n",
       "      <td>...</td>\n",
       "      <td>...</td>\n",
       "      <td>...</td>\n",
       "      <td>...</td>\n",
       "    </tr>\n",
       "    <tr>\n",
       "      <th>2020-12-24</th>\n",
       "      <td>-0.002648</td>\n",
       "      <td>-0.003949</td>\n",
       "      <td>0.007712</td>\n",
       "      <td>-0.000991</td>\n",
       "      <td>0.003735</td>\n",
       "    </tr>\n",
       "    <tr>\n",
       "      <th>2020-12-28</th>\n",
       "      <td>0.035901</td>\n",
       "      <td>0.035071</td>\n",
       "      <td>0.035766</td>\n",
       "      <td>0.010020</td>\n",
       "      <td>0.021416</td>\n",
       "    </tr>\n",
       "    <tr>\n",
       "      <th>2020-12-29</th>\n",
       "      <td>-0.000794</td>\n",
       "      <td>0.011584</td>\n",
       "      <td>-0.013315</td>\n",
       "      <td>0.022634</td>\n",
       "      <td>-0.009780</td>\n",
       "    </tr>\n",
       "    <tr>\n",
       "      <th>2020-12-30</th>\n",
       "      <td>-0.017740</td>\n",
       "      <td>-0.010882</td>\n",
       "      <td>-0.008527</td>\n",
       "      <td>-0.011830</td>\n",
       "      <td>-0.010917</td>\n",
       "    </tr>\n",
       "    <tr>\n",
       "      <th>2020-12-31</th>\n",
       "      <td>0.004745</td>\n",
       "      <td>-0.008801</td>\n",
       "      <td>-0.007703</td>\n",
       "      <td>0.030767</td>\n",
       "      <td>0.007105</td>\n",
       "    </tr>\n",
       "  </tbody>\n",
       "</table>\n",
       "<p>1510 rows × 5 columns</p>\n",
       "</div>"
      ],
      "text/plain": [
       "                  FB      AMZN      AAPL      NFLX      GOOG\n",
       "Date                                                        \n",
       "2015-01-05 -0.016061 -0.020517 -0.028172 -0.050897 -0.020846\n",
       "2015-01-06 -0.013473 -0.022833  0.000094 -0.017121 -0.023177\n",
       "2015-01-07  0.000000  0.010600  0.014022  0.005192 -0.001713\n",
       "2015-01-08  0.026658  0.006836  0.038422  0.022188  0.003153\n",
       "2015-01-09 -0.005628 -0.011749  0.001072 -0.015458 -0.012951\n",
       "...              ...       ...       ...       ...       ...\n",
       "2020-12-24 -0.002648 -0.003949  0.007712 -0.000991  0.003735\n",
       "2020-12-28  0.035901  0.035071  0.035766  0.010020  0.021416\n",
       "2020-12-29 -0.000794  0.011584 -0.013315  0.022634 -0.009780\n",
       "2020-12-30 -0.017740 -0.010882 -0.008527 -0.011830 -0.010917\n",
       "2020-12-31  0.004745 -0.008801 -0.007703  0.030767  0.007105\n",
       "\n",
       "[1510 rows x 5 columns]"
      ]
     },
     "execution_count": 6,
     "metadata": {},
     "output_type": "execute_result"
    }
   ],
   "source": [
    "# In luogo dei prezzi, utilizziamo i simple returns\n",
    "\n",
    "returns = expected_returns.returns_from_prices(df).dropna()\n",
    "returns"
   ]
  },
  {
   "cell_type": "code",
   "execution_count": 7,
   "metadata": {},
   "outputs": [
    {
     "data": {
      "text/plain": [
       "0.34975442124187583"
      ]
     },
     "execution_count": 7,
     "metadata": {},
     "output_type": "execute_result"
    }
   ],
   "source": [
    "# Calcoliamo i ritorno annualizzato del portafoglio\n",
    "\n",
    "portfolioSimpleAnnualReturn = np.sum(returns.mean() * weights) * 252\n",
    "portfolioSimpleAnnualReturn"
   ]
  },
  {
   "cell_type": "code",
   "execution_count": 8,
   "metadata": {},
   "outputs": [
    {
     "data": {
      "text/html": [
       "<div>\n",
       "<style scoped>\n",
       "    .dataframe tbody tr th:only-of-type {\n",
       "        vertical-align: middle;\n",
       "    }\n",
       "\n",
       "    .dataframe tbody tr th {\n",
       "        vertical-align: top;\n",
       "    }\n",
       "\n",
       "    .dataframe thead th {\n",
       "        text-align: right;\n",
       "    }\n",
       "</style>\n",
       "<table border=\"1\" class=\"dataframe\">\n",
       "  <thead>\n",
       "    <tr style=\"text-align: right;\">\n",
       "      <th></th>\n",
       "      <th>FB</th>\n",
       "      <th>AMZN</th>\n",
       "      <th>AAPL</th>\n",
       "      <th>NFLX</th>\n",
       "      <th>GOOG</th>\n",
       "    </tr>\n",
       "  </thead>\n",
       "  <tbody>\n",
       "    <tr>\n",
       "      <th>FB</th>\n",
       "      <td>0.101473</td>\n",
       "      <td>0.059279</td>\n",
       "      <td>0.054329</td>\n",
       "      <td>0.060053</td>\n",
       "      <td>0.057403</td>\n",
       "    </tr>\n",
       "    <tr>\n",
       "      <th>AMZN</th>\n",
       "      <td>0.059279</td>\n",
       "      <td>0.096014</td>\n",
       "      <td>0.050783</td>\n",
       "      <td>0.069140</td>\n",
       "      <td>0.054260</td>\n",
       "    </tr>\n",
       "    <tr>\n",
       "      <th>AAPL</th>\n",
       "      <td>0.054329</td>\n",
       "      <td>0.050783</td>\n",
       "      <td>0.087807</td>\n",
       "      <td>0.051805</td>\n",
       "      <td>0.048371</td>\n",
       "    </tr>\n",
       "    <tr>\n",
       "      <th>NFLX</th>\n",
       "      <td>0.060053</td>\n",
       "      <td>0.069140</td>\n",
       "      <td>0.051805</td>\n",
       "      <td>0.180231</td>\n",
       "      <td>0.054532</td>\n",
       "    </tr>\n",
       "    <tr>\n",
       "      <th>GOOG</th>\n",
       "      <td>0.057403</td>\n",
       "      <td>0.054260</td>\n",
       "      <td>0.048371</td>\n",
       "      <td>0.054532</td>\n",
       "      <td>0.072494</td>\n",
       "    </tr>\n",
       "  </tbody>\n",
       "</table>\n",
       "</div>"
      ],
      "text/plain": [
       "            FB      AMZN      AAPL      NFLX      GOOG\n",
       "FB    0.101473  0.059279  0.054329  0.060053  0.057403\n",
       "AMZN  0.059279  0.096014  0.050783  0.069140  0.054260\n",
       "AAPL  0.054329  0.050783  0.087807  0.051805  0.048371\n",
       "NFLX  0.060053  0.069140  0.051805  0.180231  0.054532\n",
       "GOOG  0.057403  0.054260  0.048371  0.054532  0.072494"
      ]
     },
     "execution_count": 8,
     "metadata": {},
     "output_type": "execute_result"
    }
   ],
   "source": [
    "# Calcolo la matrice di covarianza annualizzata per quantificare\n",
    "# la variazione di ogni variabile aleatoria rispetto alle altre\n",
    "\n",
    "cov_matrix_annual = returns.cov()*252 # NB: 252 è il numero medio di giorni di contrattazione in 1A\n",
    "cov_matrix_annual # la diagonale principale esprime la varianza (σ²) annaulizzata \n",
    "                  # di ciascun asset, dove σ = volatilità"
   ]
  },
  {
   "cell_type": "code",
   "execution_count": 9,
   "metadata": {},
   "outputs": [
    {
     "data": {
      "text/plain": [
       "0.06631719126772298"
      ]
     },
     "execution_count": 9,
     "metadata": {},
     "output_type": "execute_result"
    }
   ],
   "source": [
    "# Calcolo la varianza di portafoglio\n",
    "\n",
    "port_variance = np.dot(weights.T, np.dot(cov_matrix_annual, weights))\n",
    "port_variance"
   ]
  },
  {
   "cell_type": "code",
   "execution_count": 10,
   "metadata": {},
   "outputs": [
    {
     "data": {
      "text/plain": [
       "0.2575212443036943"
      ]
     },
     "execution_count": 10,
     "metadata": {},
     "output_type": "execute_result"
    }
   ],
   "source": [
    "# Calcolo la volatilità di portafoglio\n",
    "\n",
    "port_volatility = np.sqrt(port_variance)\n",
    "port_volatility"
   ]
  },
  {
   "cell_type": "code",
   "execution_count": 11,
   "metadata": {},
   "outputs": [
    {
     "name": "stdout",
     "output_type": "stream",
     "text": [
      "Ritorno annuo atteso: 35.0%\n",
      "Volatilità annua: 26.0%\n",
      "Varianza annua: 7.000000000000001%\n"
     ]
    }
   ],
   "source": [
    "# Rappresentiamo sinteticamente il ritorno annuo atteso, la volatilità e la varianza del potafoglio a pesi uniformi\n",
    "\n",
    "percent_var = str(round(port_variance, 2)*100) + '%'\n",
    "percent_vols = str(round(port_volatility, 2)*100) + '%'\n",
    "percent_ret = str(round(portfolioSimpleAnnualReturn, 2)*100) + '%'\n",
    "\n",
    "print('Ritorno annuo atteso: '+ percent_ret)\n",
    "print('Volatilità annua: ' + percent_vols)\n",
    "print('Varianza annua: ' + percent_var)"
   ]
  },
  {
   "cell_type": "code",
   "execution_count": 12,
   "metadata": {},
   "outputs": [
    {
     "name": "stdout",
     "output_type": "stream",
     "text": [
      "OrderedDict([('FB', 0.0), ('AMZN', 0.69172), ('AAPL', 0.13095), ('NFLX', 0.17733), ('GOOG', 0.0)])\n",
      "Expected annual return: 46.2%\n",
      "Annual volatility: 28.6%\n",
      "Sharpe Ratio: 1.55\n"
     ]
    },
    {
     "data": {
      "text/plain": [
       "(0.46215601728641165, 0.2858001760280062, 1.5470809830539913)"
      ]
     },
     "execution_count": 12,
     "metadata": {},
     "output_type": "execute_result"
    }
   ],
   "source": [
    "# Ottimizzazione di portafoglio\n",
    "\n",
    "# Calcoliamo ritorni attesi e matrice di covarianza annualizzata\n",
    "mu = expected_returns.mean_historical_return(df)\n",
    "S = risk_models.sample_cov(df)\n",
    "\n",
    "# Ottimizziamo per massimizzare lo sharp ratio\n",
    "ef = EfficientFrontier(mu, S)\n",
    "weights = ef.max_sharpe()\n",
    "cleaned_weights = ef.clean_weights()\n",
    "print(cleaned_weights)\n",
    "ef.portfolio_performance(verbose = True)"
   ]
  },
  {
   "cell_type": "code",
   "execution_count": 13,
   "metadata": {},
   "outputs": [
    {
     "data": {
      "image/png": "[encoded data removed]",
      "text/plain": [
       "<Figure size 432x288 with 1 Axes>"
      ]
     },
     "metadata": {},
     "output_type": "display_data"
    }
   ],
   "source": [
    "# Rappresentiamo la frontiera efficiente\n",
    "\n",
    "cla = CLA(mu, S)\n",
    "cla.max_sharpe()\n",
    "\n",
    "ax = plotting.plot_efficient_frontier(cla, showfig=False, orientation=\"top\")\n",
    "  \n",
    "#newx = ax.lines[0].get_ydata()\n",
    "#newy = ax.lines[0].get_xdata() \n",
    "#ax.lines[0].set_xdata(newx)\n",
    "#ax.lines[0].set_ydata(newy)"
   ]
  },
  {
   "cell_type": "code",
   "execution_count": 14,
   "metadata": {},
   "outputs": [
    {
     "name": "stdout",
     "output_type": "stream",
     "text": [
      "Discrete allocation: {'AMZN': 3, 'AAPL': 15, 'NFLX': 5}\n",
      "Fund remaining: $538.18\n"
     ]
    }
   ],
   "source": [
    "# Calcolo la quantità discreta di azioni da comprare oggi rispetto al budget\n",
    "\n",
    "latest_prices = get_latest_prices(df)\n",
    "weights = cleaned_weights\n",
    "da = DiscreteAllocation(weights, latest_prices, total_portfolio_value = 15000)\n",
    "\n",
    "allocation , leftover = da.lp_portfolio()\n",
    "print('Discrete allocation:', allocation)\n",
    "print('Fund remaining: ${:.2F}'.format(leftover))"
   ]
  },
  {
   "cell_type": "code",
   "execution_count": 15,
   "metadata": {},
   "outputs": [
    {
     "data": {
      "image/png": "[encoded data removed]",
      "text/plain": [
       "<Figure size 432x288 with 1 Axes>"
      ]
     },
     "metadata": {},
     "output_type": "display_data"
    }
   ],
   "source": [
    "# Rappresentiamo la distribuzione del portafolgio\n",
    "portfolio_rets = (returns * weights).sum(axis=1)\n",
    "portfolio_rets.hist(bins=50);"
   ]
  },
  {
   "cell_type": "code",
   "execution_count": 16,
   "metadata": {},
   "outputs": [
    {
     "name": "stdout",
     "output_type": "stream",
     "text": [
      "VaR: 2.81%\n",
      "CVaR: 4.15%\n"
     ]
    }
   ],
   "source": [
    "# VaR e CVar del portafoglio ottimizzato per massimizzare lo Sharpe Ratio senza vincoli di rischio\n",
    "var = portfolio_rets.quantile(0.05)\n",
    "cvar = portfolio_rets[portfolio_rets <= var].mean()\n",
    "print(\"VaR: {:.2f}%\".format(-100*var))\n",
    "print(\"CVaR: {:.2f}%\".format(-100*cvar))"
   ]
  },
  {
   "cell_type": "code",
   "execution_count": 17,
   "metadata": {},
   "outputs": [
    {
     "name": "stdout",
     "output_type": "stream",
     "text": [
      "OrderedDict([('FB', 0.04391), ('AMZN', 0.26676), ('AAPL', 0.29522), ('NFLX', 0.0), ('GOOG', 0.39411)])\n",
      "Expected annual return: 32.2%\n",
      "Conditional Value at Risk: 3.73%\n"
     ]
    }
   ],
   "source": [
    "# Nell'ipotesi di minimizzare il CVaR\n",
    "ec = EfficientCVaR(mu, returns)\n",
    "ec.min_cvar()\n",
    "print(ec.clean_weights())\n",
    "ec.portfolio_performance(verbose=True);"
   ]
  },
  {
   "cell_type": "code",
   "execution_count": 18,
   "metadata": {},
   "outputs": [
    {
     "name": "stdout",
     "output_type": "stream",
     "text": [
      "OrderedDict([('FB', 0.0), ('AMZN', 0.30356), ('AAPL', 0.0), ('NFLX', 0.69644), ('GOOG', 0.0)])\n",
      "Expected annual return: 48.7%\n",
      "Conditional Value at Risk: 5.00%\n"
     ]
    }
   ],
   "source": [
    "# Accettando uno CVaR > di quello di portafoglio\n",
    "ec = EfficientCVaR(mu, returns)\n",
    "ec.efficient_risk(target_cvar=0.05)\n",
    "print(ec.clean_weights())\n",
    "ec.portfolio_performance(verbose=True);"
   ]
  },
  {
   "cell_type": "code",
   "execution_count": null,
   "metadata": {},
   "outputs": [],
   "source": []
  }
 ],
 "metadata": {
  "kernelspec": {
   "display_name": "Python 3",
   "language": "python",
   "name": "python3"
  },
  "language_info": {
   "codemirror_mode": {
    "name": "ipython",
    "version": 3
   },
   "file_extension": ".py",
   "mimetype": "text/x-python",
   "name": "python",
   "nbconvert_exporter": "python",
   "pygments_lexer": "ipython3",
   "version": "3.8.5"
  }
 },
 "nbformat": 4,
 "nbformat_minor": 4
}
