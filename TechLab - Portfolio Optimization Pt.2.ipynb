{
 "cells": [
  {
   "cell_type": "markdown",
   "metadata": {},
   "source": [
    "# TechLab - Portfolio Optimization Pt.2"
   ]
  },
  {
   "cell_type": "markdown",
   "metadata": {},
   "source": [
    "Nel secondo laboratorio sperimenteremo come determinare il rendimento atteso e la varianza di un portafoglio di titoli con pesi definiti a priori per poi ottimizzarli per massimizzare lo Sharpe Ratio dello stesso."
   ]
  },
  {
   "cell_type": "code",
   "execution_count": 1,
   "metadata": {},
   "outputs": [],
   "source": [
    "from pandas_datareader import data as web\n",
    "import pandas as pd\n",
    "import numpy as np\n",
    "from datetime import datetime\n",
    "import matplotlib.pyplot as plt\n",
    "plt.style.use('fivethirtyeight')\n",
    "\n",
    "from pypfopt import CLA, plotting\n",
    "from pypfopt.efficient_frontier import EfficientFrontier\n",
    "from pypfopt import risk_models\n",
    "from pypfopt import expected_returns\n",
    "from pypfopt.discrete_allocation import DiscreteAllocation, get_latest_prices\n",
    "from pypfopt import EfficientCVaR"
   ]
  },
  {
   "cell_type": "code",
   "execution_count": 2,
   "metadata": {},
   "outputs": [],
   "source": [
    "# Scelgo gli asset su cui effettuare l'ottimizzazione\n",
    "\n",
    "assets = ['FB', 'AMZN', 'AAPL', 'NFLX', 'GOOG']"
   ]
  },
  {
   "cell_type": "code",
   "execution_count": 3,
   "metadata": {},
   "outputs": [],
   "source": [
    "# Assegno quanta parte del capitale investire in ciascun asset\n",
    "\n",
    "weights = np.array([0.2, 0.2, 0.2, 0.2, 0.2])"
   ]
  },
  {
   "cell_type": "code",
   "execution_count": 4,
   "metadata": {},
   "outputs": [
    {
     "data": {
      "text/html": [
       "<div>\n",
       "<style scoped>\n",
       "    .dataframe tbody tr th:only-of-type {\n",
       "        vertical-align: middle;\n",
       "    }\n",
       "\n",
       "    .dataframe tbody tr th {\n",
       "        vertical-align: top;\n",
       "    }\n",
       "\n",
       "    .dataframe thead th {\n",
       "        text-align: right;\n",
       "    }\n",
       "</style>\n",
       "<table border=\"1\" class=\"dataframe\">\n",
       "  <thead>\n",
       "    <tr style=\"text-align: right;\">\n",
       "      <th></th>\n",
       "      <th>FB</th>\n",
       "      <th>AMZN</th>\n",
       "      <th>AAPL</th>\n",
       "      <th>NFLX</th>\n",
       "      <th>GOOG</th>\n",
       "    </tr>\n",
       "    <tr>\n",
       "      <th>Date</th>\n",
       "      <th></th>\n",
       "      <th></th>\n",
       "      <th></th>\n",
       "      <th></th>\n",
       "      <th></th>\n",
       "    </tr>\n",
       "  </thead>\n",
       "  <tbody>\n",
       "    <tr>\n",
       "      <th>2020-01-02</th>\n",
       "      <td>209.779999</td>\n",
       "      <td>1898.010010</td>\n",
       "      <td>74.333511</td>\n",
       "      <td>329.809998</td>\n",
       "      <td>1367.369995</td>\n",
       "    </tr>\n",
       "    <tr>\n",
       "      <th>2020-01-03</th>\n",
       "      <td>208.669998</td>\n",
       "      <td>1874.969971</td>\n",
       "      <td>73.610840</td>\n",
       "      <td>325.899994</td>\n",
       "      <td>1360.660034</td>\n",
       "    </tr>\n",
       "    <tr>\n",
       "      <th>2020-01-06</th>\n",
       "      <td>212.600006</td>\n",
       "      <td>1902.880005</td>\n",
       "      <td>74.197395</td>\n",
       "      <td>335.829987</td>\n",
       "      <td>1394.209961</td>\n",
       "    </tr>\n",
       "    <tr>\n",
       "      <th>2020-01-07</th>\n",
       "      <td>213.059998</td>\n",
       "      <td>1906.859985</td>\n",
       "      <td>73.848442</td>\n",
       "      <td>330.750000</td>\n",
       "      <td>1393.339966</td>\n",
       "    </tr>\n",
       "    <tr>\n",
       "      <th>2020-01-08</th>\n",
       "      <td>215.220001</td>\n",
       "      <td>1891.969971</td>\n",
       "      <td>75.036385</td>\n",
       "      <td>339.260010</td>\n",
       "      <td>1404.319946</td>\n",
       "    </tr>\n",
       "    <tr>\n",
       "      <th>...</th>\n",
       "      <td>...</td>\n",
       "      <td>...</td>\n",
       "      <td>...</td>\n",
       "      <td>...</td>\n",
       "      <td>...</td>\n",
       "    </tr>\n",
       "    <tr>\n",
       "      <th>2021-02-22</th>\n",
       "      <td>260.329987</td>\n",
       "      <td>3180.739990</td>\n",
       "      <td>126.000000</td>\n",
       "      <td>533.780029</td>\n",
       "      <td>2064.879883</td>\n",
       "    </tr>\n",
       "    <tr>\n",
       "      <th>2021-02-23</th>\n",
       "      <td>265.859985</td>\n",
       "      <td>3194.500000</td>\n",
       "      <td>125.860001</td>\n",
       "      <td>546.150024</td>\n",
       "      <td>2070.860107</td>\n",
       "    </tr>\n",
       "    <tr>\n",
       "      <th>2021-02-24</th>\n",
       "      <td>264.309998</td>\n",
       "      <td>3159.530029</td>\n",
       "      <td>125.349998</td>\n",
       "      <td>553.409973</td>\n",
       "      <td>2095.169922</td>\n",
       "    </tr>\n",
       "    <tr>\n",
       "      <th>2021-02-25</th>\n",
       "      <td>254.690002</td>\n",
       "      <td>3057.159912</td>\n",
       "      <td>120.989998</td>\n",
       "      <td>546.700012</td>\n",
       "      <td>2031.359985</td>\n",
       "    </tr>\n",
       "    <tr>\n",
       "      <th>2021-02-26</th>\n",
       "      <td>257.619995</td>\n",
       "      <td>3092.929932</td>\n",
       "      <td>121.260002</td>\n",
       "      <td>538.849976</td>\n",
       "      <td>2036.859985</td>\n",
       "    </tr>\n",
       "  </tbody>\n",
       "</table>\n",
       "<p>291 rows × 5 columns</p>\n",
       "</div>"
      ],
      "text/plain": [
       "                    FB         AMZN        AAPL        NFLX         GOOG\n",
       "Date                                                                    \n",
       "2020-01-02  209.779999  1898.010010   74.333511  329.809998  1367.369995\n",
       "2020-01-03  208.669998  1874.969971   73.610840  325.899994  1360.660034\n",
       "2020-01-06  212.600006  1902.880005   74.197395  335.829987  1394.209961\n",
       "2020-01-07  213.059998  1906.859985   73.848442  330.750000  1393.339966\n",
       "2020-01-08  215.220001  1891.969971   75.036385  339.260010  1404.319946\n",
       "...                ...          ...         ...         ...          ...\n",
       "2021-02-22  260.329987  3180.739990  126.000000  533.780029  2064.879883\n",
       "2021-02-23  265.859985  3194.500000  125.860001  546.150024  2070.860107\n",
       "2021-02-24  264.309998  3159.530029  125.349998  553.409973  2095.169922\n",
       "2021-02-25  254.690002  3057.159912  120.989998  546.700012  2031.359985\n",
       "2021-02-26  257.619995  3092.929932  121.260002  538.849976  2036.859985\n",
       "\n",
       "[291 rows x 5 columns]"
      ]
     },
     "execution_count": 4,
     "metadata": {},
     "output_type": "execute_result"
    }
   ],
   "source": [
    "# Scarico i prezzi di mercato degli asset\n",
    "\n",
    "stockStartDate = '2020-01-01'\n",
    "today = datetime.today().strftime('%Y-%m-%d')\n",
    "\n",
    "df = pd.DataFrame()\n",
    "for stock in assets:\n",
    "    df[stock] = web.DataReader(stock, data_source='yahoo', start = stockStartDate, end = today)['Adj Close']\n",
    "\n",
    "df"
   ]
  },
  {
   "cell_type": "code",
   "execution_count": 5,
   "metadata": {},
   "outputs": [
    {
     "data": {
      "image/png": "[encoded data removed]",
      "text/plain": [
       "<Figure size 432x288 with 1 Axes>"
      ]
     },
     "metadata": {},
     "output_type": "display_data"
    }
   ],
   "source": [
    "# Visualizzo l'andamento dei prezzi degli asset in portafoglio\n",
    "\n",
    "title = 'Prezzo Asset in Portafoglio'\n",
    "my_stocks = df\n",
    "\n",
    "for c in my_stocks.columns.values:\n",
    "    plt.plot(my_stocks[c], label =c)\n",
    "\n",
    "plt.title(title)\n",
    "plt.xlabel('Data', fontsize = 18)\n",
    "plt.ylabel('Prezzo ($)', fontsize = 18)\n",
    "plt.legend(my_stocks.columns.values, loc = 'upper left')\n",
    "plt.show()"
   ]
  },
  {
   "cell_type": "code",
   "execution_count": 6,
   "metadata": {},
   "outputs": [
    {
     "data": {
      "text/html": [
       "<div>\n",
       "<style scoped>\n",
       "    .dataframe tbody tr th:only-of-type {\n",
       "        vertical-align: middle;\n",
       "    }\n",
       "\n",
       "    .dataframe tbody tr th {\n",
       "        vertical-align: top;\n",
       "    }\n",
       "\n",
       "    .dataframe thead th {\n",
       "        text-align: right;\n",
       "    }\n",
       "</style>\n",
       "<table border=\"1\" class=\"dataframe\">\n",
       "  <thead>\n",
       "    <tr style=\"text-align: right;\">\n",
       "      <th></th>\n",
       "      <th>FB</th>\n",
       "      <th>AMZN</th>\n",
       "      <th>AAPL</th>\n",
       "      <th>NFLX</th>\n",
       "      <th>GOOG</th>\n",
       "    </tr>\n",
       "    <tr>\n",
       "      <th>Date</th>\n",
       "      <th></th>\n",
       "      <th></th>\n",
       "      <th></th>\n",
       "      <th></th>\n",
       "      <th></th>\n",
       "    </tr>\n",
       "  </thead>\n",
       "  <tbody>\n",
       "    <tr>\n",
       "      <th>2020-01-03</th>\n",
       "      <td>-0.005291</td>\n",
       "      <td>-0.012139</td>\n",
       "      <td>-0.009722</td>\n",
       "      <td>-0.011855</td>\n",
       "      <td>-0.004907</td>\n",
       "    </tr>\n",
       "    <tr>\n",
       "      <th>2020-01-06</th>\n",
       "      <td>0.018834</td>\n",
       "      <td>0.014886</td>\n",
       "      <td>0.007968</td>\n",
       "      <td>0.030469</td>\n",
       "      <td>0.024657</td>\n",
       "    </tr>\n",
       "    <tr>\n",
       "      <th>2020-01-07</th>\n",
       "      <td>0.002164</td>\n",
       "      <td>0.002092</td>\n",
       "      <td>-0.004703</td>\n",
       "      <td>-0.015127</td>\n",
       "      <td>-0.000624</td>\n",
       "    </tr>\n",
       "    <tr>\n",
       "      <th>2020-01-08</th>\n",
       "      <td>0.010138</td>\n",
       "      <td>-0.007809</td>\n",
       "      <td>0.016086</td>\n",
       "      <td>0.025729</td>\n",
       "      <td>0.007880</td>\n",
       "    </tr>\n",
       "    <tr>\n",
       "      <th>2020-01-09</th>\n",
       "      <td>0.014311</td>\n",
       "      <td>0.004799</td>\n",
       "      <td>0.021241</td>\n",
       "      <td>-0.010611</td>\n",
       "      <td>0.011044</td>\n",
       "    </tr>\n",
       "    <tr>\n",
       "      <th>...</th>\n",
       "      <td>...</td>\n",
       "      <td>...</td>\n",
       "      <td>...</td>\n",
       "      <td>...</td>\n",
       "      <td>...</td>\n",
       "    </tr>\n",
       "    <tr>\n",
       "      <th>2021-02-22</th>\n",
       "      <td>-0.004703</td>\n",
       "      <td>-0.021281</td>\n",
       "      <td>-0.029799</td>\n",
       "      <td>-0.011921</td>\n",
       "      <td>-0.017257</td>\n",
       "    </tr>\n",
       "    <tr>\n",
       "      <th>2021-02-23</th>\n",
       "      <td>0.021242</td>\n",
       "      <td>0.004326</td>\n",
       "      <td>-0.001111</td>\n",
       "      <td>0.023174</td>\n",
       "      <td>0.002896</td>\n",
       "    </tr>\n",
       "    <tr>\n",
       "      <th>2021-02-24</th>\n",
       "      <td>-0.005830</td>\n",
       "      <td>-0.010947</td>\n",
       "      <td>-0.004052</td>\n",
       "      <td>0.013293</td>\n",
       "      <td>0.011739</td>\n",
       "    </tr>\n",
       "    <tr>\n",
       "      <th>2021-02-25</th>\n",
       "      <td>-0.036397</td>\n",
       "      <td>-0.032400</td>\n",
       "      <td>-0.034783</td>\n",
       "      <td>-0.012125</td>\n",
       "      <td>-0.030456</td>\n",
       "    </tr>\n",
       "    <tr>\n",
       "      <th>2021-02-26</th>\n",
       "      <td>0.011504</td>\n",
       "      <td>0.011700</td>\n",
       "      <td>0.002232</td>\n",
       "      <td>-0.014359</td>\n",
       "      <td>0.002708</td>\n",
       "    </tr>\n",
       "  </tbody>\n",
       "</table>\n",
       "<p>290 rows × 5 columns</p>\n",
       "</div>"
      ],
      "text/plain": [
       "                  FB      AMZN      AAPL      NFLX      GOOG\n",
       "Date                                                        \n",
       "2020-01-03 -0.005291 -0.012139 -0.009722 -0.011855 -0.004907\n",
       "2020-01-06  0.018834  0.014886  0.007968  0.030469  0.024657\n",
       "2020-01-07  0.002164  0.002092 -0.004703 -0.015127 -0.000624\n",
       "2020-01-08  0.010138 -0.007809  0.016086  0.025729  0.007880\n",
       "2020-01-09  0.014311  0.004799  0.021241 -0.010611  0.011044\n",
       "...              ...       ...       ...       ...       ...\n",
       "2021-02-22 -0.004703 -0.021281 -0.029799 -0.011921 -0.017257\n",
       "2021-02-23  0.021242  0.004326 -0.001111  0.023174  0.002896\n",
       "2021-02-24 -0.005830 -0.010947 -0.004052  0.013293  0.011739\n",
       "2021-02-25 -0.036397 -0.032400 -0.034783 -0.012125 -0.030456\n",
       "2021-02-26  0.011504  0.011700  0.002232 -0.014359  0.002708\n",
       "\n",
       "[290 rows x 5 columns]"
      ]
     },
     "execution_count": 6,
     "metadata": {},
     "output_type": "execute_result"
    }
   ],
   "source": [
    "# In luogo dei prezzi, utilizziamo i simple returns\n",
    "\n",
    "returns = expected_returns.returns_from_prices(df).dropna()\n",
    "returns"
   ]
  },
  {
   "cell_type": "code",
   "execution_count": 7,
   "metadata": {},
   "outputs": [
    {
     "data": {
      "text/plain": [
       "0.4503292858159998"
      ]
     },
     "execution_count": 7,
     "metadata": {},
     "output_type": "execute_result"
    }
   ],
   "source": [
    "# Calcoliamo i ritorno annualizzato del portafoglio\n",
    "\n",
    "portfolioSimpleAnnualReturn = np.sum(returns.mean() * weights) * 252\n",
    "portfolioSimpleAnnualReturn"
   ]
  },
  {
   "cell_type": "code",
   "execution_count": 8,
   "metadata": {},
   "outputs": [
    {
     "data": {
      "text/html": [
       "<div>\n",
       "<style scoped>\n",
       "    .dataframe tbody tr th:only-of-type {\n",
       "        vertical-align: middle;\n",
       "    }\n",
       "\n",
       "    .dataframe tbody tr th {\n",
       "        vertical-align: top;\n",
       "    }\n",
       "\n",
       "    .dataframe thead th {\n",
       "        text-align: right;\n",
       "    }\n",
       "</style>\n",
       "<table border=\"1\" class=\"dataframe\">\n",
       "  <thead>\n",
       "    <tr style=\"text-align: right;\">\n",
       "      <th></th>\n",
       "      <th>FB</th>\n",
       "      <th>AMZN</th>\n",
       "      <th>AAPL</th>\n",
       "      <th>NFLX</th>\n",
       "      <th>GOOG</th>\n",
       "    </tr>\n",
       "  </thead>\n",
       "  <tbody>\n",
       "    <tr>\n",
       "      <th>FB</th>\n",
       "      <td>0.195977</td>\n",
       "      <td>0.112028</td>\n",
       "      <td>0.151155</td>\n",
       "      <td>0.116041</td>\n",
       "      <td>0.130502</td>\n",
       "    </tr>\n",
       "    <tr>\n",
       "      <th>AMZN</th>\n",
       "      <td>0.112028</td>\n",
       "      <td>0.138395</td>\n",
       "      <td>0.116338</td>\n",
       "      <td>0.117784</td>\n",
       "      <td>0.093396</td>\n",
       "    </tr>\n",
       "    <tr>\n",
       "      <th>AAPL</th>\n",
       "      <td>0.151155</td>\n",
       "      <td>0.116338</td>\n",
       "      <td>0.202502</td>\n",
       "      <td>0.113792</td>\n",
       "      <td>0.122142</td>\n",
       "    </tr>\n",
       "    <tr>\n",
       "      <th>NFLX</th>\n",
       "      <td>0.116041</td>\n",
       "      <td>0.117784</td>\n",
       "      <td>0.113792</td>\n",
       "      <td>0.223674</td>\n",
       "      <td>0.094416</td>\n",
       "    </tr>\n",
       "    <tr>\n",
       "      <th>GOOG</th>\n",
       "      <td>0.130502</td>\n",
       "      <td>0.093396</td>\n",
       "      <td>0.122142</td>\n",
       "      <td>0.094416</td>\n",
       "      <td>0.142491</td>\n",
       "    </tr>\n",
       "  </tbody>\n",
       "</table>\n",
       "</div>"
      ],
      "text/plain": [
       "            FB      AMZN      AAPL      NFLX      GOOG\n",
       "FB    0.195977  0.112028  0.151155  0.116041  0.130502\n",
       "AMZN  0.112028  0.138395  0.116338  0.117784  0.093396\n",
       "AAPL  0.151155  0.116338  0.202502  0.113792  0.122142\n",
       "NFLX  0.116041  0.117784  0.113792  0.223674  0.094416\n",
       "GOOG  0.130502  0.093396  0.122142  0.094416  0.142491"
      ]
     },
     "execution_count": 8,
     "metadata": {},
     "output_type": "execute_result"
    }
   ],
   "source": [
    "# Calcolo la matrice di covarianza annualizzata per quantificare\n",
    "# la variazione di ogni variabile aleatoria rispetto alle altre\n",
    "\n",
    "cov_matrix_annual = returns.cov()*252 # NB: 252 è il numero medio di giorni di contrattazione in 1A\n",
    "cov_matrix_annual # la diagonale principale esprime la varianza (σ²) annaulizzata \n",
    "                  # di ciascun asset, dove σ = volatilità"
   ]
  },
  {
   "cell_type": "code",
   "execution_count": 9,
   "metadata": {},
   "outputs": [
    {
     "data": {
      "text/plain": [
       "0.12952918628230717"
      ]
     },
     "execution_count": 9,
     "metadata": {},
     "output_type": "execute_result"
    }
   ],
   "source": [
    "# Calcolo la varianza di portafoglio\n",
    "\n",
    "port_variance = np.dot(weights.T, np.dot(cov_matrix_annual, weights))\n",
    "port_variance"
   ]
  },
  {
   "cell_type": "code",
   "execution_count": 10,
   "metadata": {},
   "outputs": [
    {
     "data": {
      "text/plain": [
       "0.35990163417565524"
      ]
     },
     "execution_count": 10,
     "metadata": {},
     "output_type": "execute_result"
    }
   ],
   "source": [
    "# Calcolo la volatilità di portafoglio\n",
    "\n",
    "port_volatility = np.sqrt(port_variance)\n",
    "port_volatility"
   ]
  },
  {
   "cell_type": "code",
   "execution_count": 11,
   "metadata": {},
   "outputs": [
    {
     "name": "stdout",
     "output_type": "stream",
     "text": [
      "Ritorno annuo atteso: 45.0%\n",
      "Volatilità annua: 36.0%\n",
      "Varianza annua: 13.0%\n"
     ]
    }
   ],
   "source": [
    "# Rappresentiamo sinteticamente il ritorno annuo atteso, la volatilità e la varianza del potafoglio a pesi uniformi\n",
    "\n",
    "percent_var = str(round(port_variance, 2)*100) + '%'\n",
    "percent_vols = str(round(port_volatility, 2)*100) + '%'\n",
    "percent_ret = str(round(portfolioSimpleAnnualReturn, 2)*100) + '%'\n",
    "\n",
    "print('Ritorno annuo atteso: '+ percent_ret)\n",
    "print('Volatilità annua: ' + percent_vols)\n",
    "print('Varianza annua: ' + percent_var)"
   ]
  },
  {
   "cell_type": "code",
   "execution_count": 12,
   "metadata": {},
   "outputs": [
    {
     "name": "stdout",
     "output_type": "stream",
     "text": [
      "OrderedDict([('FB', 0.0), ('AMZN', 0.65192), ('AAPL', 0.16152), ('NFLX', 0.13868), ('GOOG', 0.04788)])\n",
      "Expected annual return: 52.4%\n",
      "Annual volatility: 35.9%\n",
      "Sharpe Ratio: 1.40\n"
     ]
    },
    {
     "data": {
      "text/plain": [
       "(0.5237762497389362, 0.3586057598319732, 1.4048191807487518)"
      ]
     },
     "execution_count": 12,
     "metadata": {},
     "output_type": "execute_result"
    }
   ],
   "source": [
    "# Ottimizzazione di portafoglio\n",
    "\n",
    "# Calcoliamo ritorni attesi e matrice di covarianza annualizzata\n",
    "mu = expected_returns.mean_historical_return(df)\n",
    "S = risk_models.sample_cov(df)\n",
    "\n",
    "# Ottimizziamo per massimizzare lo sharp ratio\n",
    "ef = EfficientFrontier(mu, S)\n",
    "weights = ef.max_sharpe()\n",
    "cleaned_weights = ef.clean_weights()\n",
    "print(cleaned_weights)\n",
    "ef.portfolio_performance(verbose = True)"
   ]
  },
  {
   "cell_type": "code",
   "execution_count": 13,
   "metadata": {},
   "outputs": [
    {
     "data": {
      "image/png": "[encoded data removed]",
      "text/plain": [
       "<Figure size 432x288 with 1 Axes>"
      ]
     },
     "metadata": {},
     "output_type": "display_data"
    }
   ],
   "source": [
    "# Rappresentiamo la frontiera efficiente\n",
    "\n",
    "cla = CLA(mu, S)\n",
    "cla.max_sharpe()\n",
    "\n",
    "ax = plotting.plot_efficient_frontier(cla, showfig=False)"
   ]
  },
  {
   "cell_type": "code",
   "execution_count": 14,
   "metadata": {},
   "outputs": [
    {
     "name": "stdout",
     "output_type": "stream",
     "text": [
      "Discrete allocation: {'AMZN': 3, 'AAPL': 20, 'NFLX': 4}\n",
      "Fund remaining: $1140.61\n"
     ]
    }
   ],
   "source": [
    "# Calcolo la quantità discreta di azioni da comprare oggi rispetto al budget\n",
    "\n",
    "latest_prices = get_latest_prices(df)\n",
    "weights = cleaned_weights\n",
    "da = DiscreteAllocation(weights, latest_prices, total_portfolio_value = 15000)\n",
    "\n",
    "allocation , leftover = da.lp_portfolio()\n",
    "print('Discrete allocation:', allocation)\n",
    "print('Fund remaining: ${:.2F}'.format(leftover))"
   ]
  },
  {
   "cell_type": "code",
   "execution_count": 15,
   "metadata": {},
   "outputs": [
    {
     "data": {
      "image/png": "[encoded data removed]",
      "text/plain": [
       "<Figure size 432x288 with 1 Axes>"
      ]
     },
     "metadata": {},
     "output_type": "display_data"
    }
   ],
   "source": [
    "# Rappresentiamo la distribuzione del portafolgio\n",
    "portfolio_rets = (returns * weights).sum(axis=1)\n",
    "portfolio_rets.hist(bins=50);"
   ]
  },
  {
   "cell_type": "code",
   "execution_count": 16,
   "metadata": {},
   "outputs": [
    {
     "name": "stdout",
     "output_type": "stream",
     "text": [
      "VaR: -3.35%\n",
      "CVaR: -4.96%\n"
     ]
    }
   ],
   "source": [
    "# VaR e CVar del portafoglio ottimizzato per massimizzare lo Sharpe Ratio senza vincoli di rischio\n",
    "var = portfolio_rets.quantile(0.05)\n",
    "cvar = portfolio_rets[portfolio_rets <= var].mean()\n",
    "print(\"VaR: {:.2f}%\".format(100*var))\n",
    "print(\"CVaR: {:.2f}%\".format(100*cvar))"
   ]
  },
  {
   "cell_type": "code",
   "execution_count": 17,
   "metadata": {},
   "outputs": [
    {
     "name": "stdout",
     "output_type": "stream",
     "text": [
      "OrderedDict([('FB', 0.0), ('AMZN', 0.61907), ('AAPL', 0.0), ('NFLX', 0.14903), ('GOOG', 0.2319)])\n",
      "Expected annual return: 50.2%\n",
      "Conditional Value at Risk: 4.76%\n"
     ]
    }
   ],
   "source": [
    "# Nell'ipotesi di minimizzare il CVaR\n",
    "ec = EfficientCVaR(mu, returns)\n",
    "ec.min_cvar()\n",
    "print(ec.clean_weights())\n",
    "ec.portfolio_performance(verbose=True);"
   ]
  },
  {
   "cell_type": "code",
   "execution_count": 18,
   "metadata": {},
   "outputs": [
    {
     "name": "stdout",
     "output_type": "stream",
     "text": [
      "OrderedDict([('FB', 0.0), ('AMZN', 0.56684), ('AAPL', 0.0277), ('NFLX', 0.40546), ('GOOG', 0.0)])\n",
      "Expected annual return: 53.0%\n",
      "Conditional Value at Risk: 5.00%\n"
     ]
    }
   ],
   "source": [
    "# Accettando uno CVaR > di quello di portafoglio\n",
    "ec = EfficientCVaR(mu, returns)\n",
    "ec.efficient_risk(target_cvar=0.05)\n",
    "print(ec.clean_weights())\n",
    "ec.portfolio_performance(verbose=True);"
   ]
  },
  {
   "cell_type": "code",
   "execution_count": null,
   "metadata": {},
   "outputs": [],
   "source": []
  }
 ],
 "metadata": {
  "kernelspec": {
   "display_name": "Python 3",
   "language": "python",
   "name": "python3"
  },
  "language_info": {
   "codemirror_mode": {
    "name": "ipython",
    "version": 3
   },
   "file_extension": ".py",
   "mimetype": "text/x-python",
   "name": "python",
   "nbconvert_exporter": "python",
   "pygments_lexer": "ipython3",
   "version": "3.8.5"
  }
 },
 "nbformat": 4,
 "nbformat_minor": 4
}
